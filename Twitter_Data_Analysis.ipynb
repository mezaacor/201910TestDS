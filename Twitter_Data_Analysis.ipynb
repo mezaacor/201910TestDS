{
 "cells": [
  {
   "cell_type": "markdown",
   "metadata": {},
   "source": [
    "# Retrieving Tweets with hashtag FIFA20"
   ]
  },
  {
   "cell_type": "code",
   "execution_count": 109,
   "metadata": {},
   "outputs": [],
   "source": [
    "#Libraries\n",
    "import os\n",
    "import pandas as pd\n",
    "import tweepy\n",
    "import tweepy\n",
    "import re\n",
    "import string\n",
    "from textblob import TextBlob\n",
    "import preprocessor as p\n",
    "from nltk.corpus import stopwords\n",
    "from nltk.tokenize import word_tokenize\n",
    "from textblob import TextBlob \n",
    "from itertools import islice \n",
    "import matplotlib.pyplot as plt\n",
    "import seaborn as sns\n",
    "from numpy.random import randn\n",
    "from numpy.random import seed\n",
    "from numpy import cov\n",
    "from scipy.stats import pearsonr\n",
    "import nltk\n",
    "#nltk.download()\n",
    "from collections import Counter\n",
    "from os import path\n",
    "from PIL import Image\n",
    "from wordcloud import WordCloud, STOPWORDS, ImageColorGenerator\n",
    "import random\n",
    "from opencage.geocoder import OpenCageGeocode\n",
    "import mtranslate"
   ]
  },
  {
   "cell_type": "code",
   "execution_count": 2,
   "metadata": {},
   "outputs": [],
   "source": [
    "###FIFA2020 Sentiment Analysis from Social Networks (Twitter)\n",
    "#Credential for to get access to Twitter app\n",
    "{\n",
    "    \"tags\": [\n",
    "        \"remove_input\",\n",
    "    ]\n",
    "}\n",
    "# @hidden_cell\n",
    "consumer_key = 'QvXr1zeEY23RkkVtuPlznMsum'\n",
    "consumer_secret = 'SiVCmu6y4Bwjeecy07FLzT93vwnLXpwZcHOGYLadOn1olQfVkN'\n",
    "access_key = '43378610-7PZx0rq8zrDt6Ypqo18lfYsRJb2z7g3E6iQBgFA6p'\n",
    "access_secret = 'N40IJpdB5LFj5S207s7PuCQb33zxk9saI8aLLjJkjRdCu'"
   ]
  },
  {
   "cell_type": "code",
   "execution_count": 3,
   "metadata": {},
   "outputs": [],
   "source": [
    "#Pass twitter credentials to tweepy\n",
    "auth = tweepy.OAuthHandler(consumer_key, consumer_secret)\n",
    "auth.set_access_token(access_key, access_secret)\n",
    "api = tweepy.API(auth)"
   ]
  },
  {
   "cell_type": "code",
   "execution_count": 4,
   "metadata": {},
   "outputs": [],
   "source": [
    "#file location changed to \"data/telemedicine_data_extraction/\" for clearer path\n",
    "retrieve_tweets = \"/home/ronny/Documentos/Homework/retrieve_tweets_data.csv\""
   ]
  },
  {
   "cell_type": "code",
   "execution_count": 5,
   "metadata": {},
   "outputs": [],
   "source": [
    "#columns of the csv file\n",
    "COLS = ['id', 'created_at', 'source', 'original_text','clean_text', 'sentiment','polarity','subjectivity', 'lang',\n",
    "        'favorite_count', 'retweet_count', 'original_author', 'possibly_sensitive', 'hashtags',\n",
    "        'user_mentions', 'place', 'place_coord_boundaries']"
   ]
  },
  {
   "cell_type": "code",
   "execution_count": 6,
   "metadata": {},
   "outputs": [],
   "source": [
    "#set two date variables for date range\n",
    "start_date = '2019-09-27'\n",
    "end_date = '2019-11-01'"
   ]
  },
  {
   "cell_type": "code",
   "execution_count": 7,
   "metadata": {},
   "outputs": [],
   "source": [
    "# Happy Emoticons\n",
    "emoticons_happy = set([\n",
    "    ':-)', ':)', ';)', ':o)', ':]', ':3', ':c)', ':>', '=]', '8)', '=)', ':}',\n",
    "    ':^)', ':-D', ':D', '8-D', '8D', 'x-D', 'xD', 'X-D', 'XD', '=-D', '=D',\n",
    "    '=-3', '=3', ':-))', \":'-)\", \":')\", ':*', ':^*', '>:P', ':-P', ':P', 'X-P',\n",
    "    'x-p', 'xp', 'XP', ':-p', ':p', '=p', ':-b', ':b', '>:)', '>;)', '>:-)',\n",
    "    '<3'\n",
    "    ])"
   ]
  },
  {
   "cell_type": "code",
   "execution_count": 8,
   "metadata": {},
   "outputs": [],
   "source": [
    "# Sad Emoticons\n",
    "emoticons_sad = set([\n",
    "    ':L', ':-/', '>:/', ':S', '>:[', ':@', ':-(', ':[', ':-||', '=L', ':<',\n",
    "    ':-[', ':-<', '=\\\\', '=/', '>:(', ':(', '>.<', \":'-(\", \":'(\", ':\\\\', ':-c',\n",
    "    ':c', ':{', '>:\\\\', ';('\n",
    "    ])"
   ]
  },
  {
   "cell_type": "code",
   "execution_count": 9,
   "metadata": {},
   "outputs": [],
   "source": [
    "#Emoji patterns\n",
    "emoji_pattern = re.compile(\"[\"\n",
    "                           u\"\\U0001F600-\\U0001F64F\"  # emoticons\n",
    "                           u\"\\U0001F300-\\U0001F5FF\"  # symbols & pictographs\n",
    "                           u\"\\U0001F680-\\U0001F6FF\"  # transport & map symbols\n",
    "                           u\"\\U0001F1E0-\\U0001F1FF\"  # flags (iOS)\n",
    "                           u\"\\U00002702-\\U000027B0\"\n",
    "                           u\"\\U000024C2-\\U0001F251\"\n",
    "                           \"]+\", flags=re.UNICODE)"
   ]
  },
  {
   "cell_type": "code",
   "execution_count": 10,
   "metadata": {},
   "outputs": [],
   "source": [
    "#combine sad and happy emoticons\n",
    "emoticons = emoticons_happy.union(emoticons_sad)"
   ]
  },
  {
   "cell_type": "code",
   "execution_count": 11,
   "metadata": {},
   "outputs": [],
   "source": [
    "#mrhod clean_tweets()\n",
    "def clean_tweets(tweet):\n",
    "    stop_words = set(stopwords.words('english'))\n",
    "    word_tokens = word_tokenize(tweet)\n",
    " \n",
    "    #after tweepy preprocessing the colon left remain after removing mentions\n",
    "    #or RT sign in the beginning of the tweet\n",
    "    tweet = re.sub(r':', '', tweet)\n",
    "    tweet = re.sub(r'‚Ä¶', '', tweet)\n",
    "    #replace consecutive non-ASCII characters with a space\n",
    "    tweet = re.sub(r'[^\\x00-\\x7F]+',' ', tweet)\n",
    " \n",
    " \n",
    "    #remove emojis from tweet\n",
    "    tweet = emoji_pattern.sub(r'', tweet)\n",
    " \n",
    "    #filter using NLTK library append it to a string\n",
    "    filtered_tweet = [w for w in word_tokens if not w in stop_words]\n",
    "    filtered_tweet = []\n",
    " \n",
    "    #looping through conditions\n",
    "    for w in word_tokens:\n",
    "        #check tokens against stop words , emoticons and punctuations\n",
    "        if w not in stop_words and w not in emoticons and w not in string.punctuation:\n",
    "            filtered_tweet.append(w)\n",
    "    return ' '.join(filtered_tweet)"
   ]
  },
  {
   "cell_type": "code",
   "execution_count": 12,
   "metadata": {},
   "outputs": [],
   "source": [
    "#method write_tweets()\n",
    "def write_tweets(keyword, file):\n",
    "    # If the file exists, then read the existing data from the CSV file.\n",
    "    if os.path.exists(file):\n",
    "        df = pd.read_csv(file, header=0)\n",
    "    else:\n",
    "        df = pd.DataFrame(columns=COLS)\n",
    "    #page attribute in tweepy.cursor and iteration\n",
    "    for page in tweepy.Cursor(api.search, q=keyword,\n",
    "                              count=200, include_rts=False, since=start_date).pages(50):\n",
    "        for status in page:\n",
    "            new_entry = []\n",
    "            status = status._json\n",
    " \n",
    "            ## check whether the tweet is in english or skip to the next tweet\n",
    "            if status['lang'] != 'en':\n",
    "                continue\n",
    " \n",
    "            #when run the code, below code replaces the retweet amount and\n",
    "            #no of favorires that are changed since last download.\n",
    "            if status['created_at'] in df['created_at'].values:\n",
    "                i = df.loc[df['created_at'] == status['created_at']].index[0]\n",
    "                if status['favorite_count'] != df.at[i, 'favorite_count'] or \\\n",
    "                   status['retweet_count'] != df.at[i, 'retweet_count']:\n",
    "                    df.at[i, 'favorite_count'] = status['favorite_count']\n",
    "                    df.at[i, 'retweet_count'] = status['retweet_count']\n",
    "                continue\n",
    "                \n",
    "            #tweepy preprocessing called for basic preprocessing\n",
    "            clean_text = p.clean(status['text'])\n",
    " \n",
    "            #call clean_tweet method for extra preprocessing\n",
    "            filtered_tweet=clean_tweets(clean_text)\n",
    " \n",
    "            #pass textBlob method for sentiment calculations\n",
    "            blob = TextBlob(filtered_tweet)\n",
    "            Sentiment = blob.sentiment\n",
    " \n",
    "            #seperate polarity and subjectivity in to two variables\n",
    "            polarity = Sentiment.polarity\n",
    "            subjectivity = Sentiment.subjectivity\n",
    " \n",
    "            #new entry append\n",
    "            new_entry += [status['id'], status['created_at'],\n",
    "                          status['source'], status['text'],filtered_tweet, Sentiment,polarity,subjectivity, status['lang'],\n",
    "                          status['favorite_count'], status['retweet_count']]\n",
    " \n",
    "            #to append original author of the tweet\n",
    "            new_entry.append(status['user']['screen_name'])\n",
    " \n",
    "            try:\n",
    "                is_sensitive = status['possibly_sensitive']\n",
    "            except KeyError:\n",
    "                is_sensitive = None\n",
    "            new_entry.append(is_sensitive)\n",
    " \n",
    "            # hashtagas and mentiones are saved using comma separted\n",
    "            hashtags = \", \".join([hashtag_item['text'] for hashtag_item in status['entities']['hashtags']])\n",
    "            new_entry.append(hashtags)\n",
    "            mentions = \", \".join([mention['screen_name'] for mention in status['entities']['user_mentions']])\n",
    "            new_entry.append(mentions)\n",
    " \n",
    "            #get location of the tweet if possible\n",
    "            try:\n",
    "                location = status['user']['location']\n",
    "            except TypeError:\n",
    "                location = ''\n",
    "            new_entry.append(location)\n",
    " \n",
    "            try:\n",
    "                coordinates = [coord for loc in status['place']['bounding_box']['coordinates'] for coord in loc]\n",
    "            except TypeError:\n",
    "                coordinates = None\n",
    "            new_entry.append(coordinates)\n",
    " \n",
    "            single_tweet_df = pd.DataFrame([new_entry], columns=COLS)\n",
    "            df = df.append(single_tweet_df, ignore_index=True)\n",
    "            csvFile = open(file, 'a' ,encoding='utf-8')\n",
    "    df.to_csv(csvFile, mode='a', columns=COLS, index=False, encoding=\"utf-8\")"
   ]
  },
  {
   "cell_type": "code",
   "execution_count": 13,
   "metadata": {},
   "outputs": [],
   "source": [
    "#Hashtag list generated in https://www.all-hashtag.com/hashtag-generator.php\n",
    "related_keywords = '#fifa20 OR #fut20 OR #easportfifa OR #fifa20videos OR #fifa2020 OR  #fifa2020moves OR #fifa20goals OR #fifa20skills OR #Volta OR #FIFA20'"
   ]
  },
  {
   "cell_type": "code",
   "execution_count": 14,
   "metadata": {},
   "outputs": [],
   "source": [
    "#call main method passing keywords and file path\n",
    "write_tweets(related_keywords,  retrieve_tweets)"
   ]
  },
  {
   "cell_type": "markdown",
   "metadata": {},
   "source": [
    "# Statistical Sentiment Analysis"
   ]
  },
  {
   "cell_type": "code",
   "execution_count": 15,
   "metadata": {},
   "outputs": [
    {
     "data": {
      "text/html": [
       "<div>\n",
       "<style scoped>\n",
       "    .dataframe tbody tr th:only-of-type {\n",
       "        vertical-align: middle;\n",
       "    }\n",
       "\n",
       "    .dataframe tbody tr th {\n",
       "        vertical-align: top;\n",
       "    }\n",
       "\n",
       "    .dataframe thead th {\n",
       "        text-align: right;\n",
       "    }\n",
       "</style>\n",
       "<table border=\"1\" class=\"dataframe\">\n",
       "  <thead>\n",
       "    <tr style=\"text-align: right;\">\n",
       "      <th></th>\n",
       "      <th>id</th>\n",
       "      <th>created_at</th>\n",
       "      <th>source</th>\n",
       "      <th>original_text</th>\n",
       "      <th>clean_text</th>\n",
       "      <th>sentiment</th>\n",
       "      <th>polarity</th>\n",
       "      <th>subjectivity</th>\n",
       "      <th>lang</th>\n",
       "      <th>favorite_count</th>\n",
       "      <th>retweet_count</th>\n",
       "      <th>original_author</th>\n",
       "      <th>possibly_sensitive</th>\n",
       "      <th>hashtags</th>\n",
       "      <th>user_mentions</th>\n",
       "      <th>place</th>\n",
       "      <th>place_coord_boundaries</th>\n",
       "    </tr>\n",
       "  </thead>\n",
       "  <tbody>\n",
       "    <tr>\n",
       "      <td>0</td>\n",
       "      <td>1190608085347377153</td>\n",
       "      <td>Sat Nov 02 12:34:22 +0000 2019</td>\n",
       "      <td>&lt;a href=\"https://ifttt.com\" rel=\"nofollow\"&gt;IFT...</td>\n",
       "      <td>Once Upon A Time In… Hollywood – Steelbook Edi...</td>\n",
       "      <td>Once Upon A Time In… Hollywood – Steelbook Edi...</td>\n",
       "      <td>Sentiment(polarity=0.0, subjectivity=0.0)</td>\n",
       "      <td>0.0</td>\n",
       "      <td>0.0</td>\n",
       "      <td>en</td>\n",
       "      <td>0</td>\n",
       "      <td>885</td>\n",
       "      <td>SteelbookJunkie</td>\n",
       "      <td>False</td>\n",
       "      <td>NaN</td>\n",
       "      <td>NaN</td>\n",
       "      <td>NaN</td>\n",
       "      <td>NaN</td>\n",
       "    </tr>\n",
       "    <tr>\n",
       "      <td>1</td>\n",
       "      <td>1190608060542115845</td>\n",
       "      <td>Sat Nov 02 12:34:16 +0000 2019</td>\n",
       "      <td>&lt;a href=\"https://mobile.twitter.com\" rel=\"nofo...</td>\n",
       "      <td>RT @ChelseaFC: A perfect hat-trick ⚽⚽⚽ against...</td>\n",
       "      <td>A perfect hat-trick Burnley sees named Team We...</td>\n",
       "      <td>Sentiment(polarity=1.0, subjectivity=1.0)</td>\n",
       "      <td>1.0</td>\n",
       "      <td>1.0</td>\n",
       "      <td>en</td>\n",
       "      <td>0</td>\n",
       "      <td>725</td>\n",
       "      <td>salahuddinahm19</td>\n",
       "      <td>NaN</td>\n",
       "      <td>TOTW, FIFA20</td>\n",
       "      <td>ChelseaFC, cpulisic_10, EASPORTSFIFA</td>\n",
       "      <td>chittagong ,bangladesh</td>\n",
       "      <td>NaN</td>\n",
       "    </tr>\n",
       "    <tr>\n",
       "      <td>2</td>\n",
       "      <td>1190608047678185477</td>\n",
       "      <td>Sat Nov 02 12:34:13 +0000 2019</td>\n",
       "      <td>&lt;a href=\"http://twitter.com/download/android\" ...</td>\n",
       "      <td>RT @ZidanesGlory: Giveaway!\\n\\nWin 12.000 fifa...</td>\n",
       "      <td>Giveaway Win 00 fifa points paypal value €100 ...</td>\n",
       "      <td>Sentiment(polarity=0.65, subjectivity=0.575)</td>\n",
       "      <td>0.65</td>\n",
       "      <td>0.575</td>\n",
       "      <td>en</td>\n",
       "      <td>0</td>\n",
       "      <td>30</td>\n",
       "      <td>my_pinklemonade</td>\n",
       "      <td>NaN</td>\n",
       "      <td>NaN</td>\n",
       "      <td>ZidanesGlory</td>\n",
       "      <td>NaN</td>\n",
       "      <td>NaN</td>\n",
       "    </tr>\n",
       "    <tr>\n",
       "      <td>3</td>\n",
       "      <td>1190608039717613568</td>\n",
       "      <td>Sat Nov 02 12:34:11 +0000 2019</td>\n",
       "      <td>&lt;a href=\"http://twitter.com/download/android\" ...</td>\n",
       "      <td>RT @rugbyworldcup: After a huge game, Duane Ve...</td>\n",
       "      <td>After huge game Duane Vermeulen ＠Mastercard Pl...</td>\n",
       "      <td>Sentiment(polarity=1.850371707708594e-17, subj...</td>\n",
       "      <td>1.850371707708594e-17</td>\n",
       "      <td>0.7666666666666666</td>\n",
       "      <td>en</td>\n",
       "      <td>0</td>\n",
       "      <td>885</td>\n",
       "      <td>pennyworth_j</td>\n",
       "      <td>NaN</td>\n",
       "      <td>NaN</td>\n",
       "      <td>rugbyworldcup, Mastercard</td>\n",
       "      <td>NaN</td>\n",
       "      <td>NaN</td>\n",
       "    </tr>\n",
       "    <tr>\n",
       "      <td>4</td>\n",
       "      <td>1190608013725446144</td>\n",
       "      <td>Sat Nov 02 12:34:05 +0000 2019</td>\n",
       "      <td>&lt;a href=\"http://twitter.com/download/android\" ...</td>\n",
       "      <td>RT @rugbyworldcup: The @Mastercard #ENGvRSA Pl...</td>\n",
       "      <td>The Player Match – Duane Vermeulen The Number ...</td>\n",
       "      <td>Sentiment(polarity=0.0, subjectivity=0.1547619...</td>\n",
       "      <td>0.0</td>\n",
       "      <td>0.15476190476190477</td>\n",
       "      <td>en</td>\n",
       "      <td>0</td>\n",
       "      <td>116</td>\n",
       "      <td>RugbyGirl411</td>\n",
       "      <td>NaN</td>\n",
       "      <td>ENGvRSA</td>\n",
       "      <td>rugbyworldcup, Mastercard</td>\n",
       "      <td>South Africa</td>\n",
       "      <td>NaN</td>\n",
       "    </tr>\n",
       "  </tbody>\n",
       "</table>\n",
       "</div>"
      ],
      "text/plain": [
       "                    id                      created_at  \\\n",
       "0  1190608085347377153  Sat Nov 02 12:34:22 +0000 2019   \n",
       "1  1190608060542115845  Sat Nov 02 12:34:16 +0000 2019   \n",
       "2  1190608047678185477  Sat Nov 02 12:34:13 +0000 2019   \n",
       "3  1190608039717613568  Sat Nov 02 12:34:11 +0000 2019   \n",
       "4  1190608013725446144  Sat Nov 02 12:34:05 +0000 2019   \n",
       "\n",
       "                                              source  \\\n",
       "0  <a href=\"https://ifttt.com\" rel=\"nofollow\">IFT...   \n",
       "1  <a href=\"https://mobile.twitter.com\" rel=\"nofo...   \n",
       "2  <a href=\"http://twitter.com/download/android\" ...   \n",
       "3  <a href=\"http://twitter.com/download/android\" ...   \n",
       "4  <a href=\"http://twitter.com/download/android\" ...   \n",
       "\n",
       "                                       original_text  \\\n",
       "0  Once Upon A Time In… Hollywood – Steelbook Edi...   \n",
       "1  RT @ChelseaFC: A perfect hat-trick ⚽⚽⚽ against...   \n",
       "2  RT @ZidanesGlory: Giveaway!\\n\\nWin 12.000 fifa...   \n",
       "3  RT @rugbyworldcup: After a huge game, Duane Ve...   \n",
       "4  RT @rugbyworldcup: The @Mastercard #ENGvRSA Pl...   \n",
       "\n",
       "                                          clean_text  \\\n",
       "0  Once Upon A Time In… Hollywood – Steelbook Edi...   \n",
       "1  A perfect hat-trick Burnley sees named Team We...   \n",
       "2  Giveaway Win 00 fifa points paypal value €100 ...   \n",
       "3  After huge game Duane Vermeulen ＠Mastercard Pl...   \n",
       "4  The Player Match – Duane Vermeulen The Number ...   \n",
       "\n",
       "                                           sentiment               polarity  \\\n",
       "0          Sentiment(polarity=0.0, subjectivity=0.0)                    0.0   \n",
       "1          Sentiment(polarity=1.0, subjectivity=1.0)                    1.0   \n",
       "2       Sentiment(polarity=0.65, subjectivity=0.575)                   0.65   \n",
       "3  Sentiment(polarity=1.850371707708594e-17, subj...  1.850371707708594e-17   \n",
       "4  Sentiment(polarity=0.0, subjectivity=0.1547619...                    0.0   \n",
       "\n",
       "          subjectivity lang favorite_count retweet_count  original_author  \\\n",
       "0                  0.0   en              0           885  SteelbookJunkie   \n",
       "1                  1.0   en              0           725  salahuddinahm19   \n",
       "2                0.575   en              0            30  my_pinklemonade   \n",
       "3   0.7666666666666666   en              0           885     pennyworth_j   \n",
       "4  0.15476190476190477   en              0           116     RugbyGirl411   \n",
       "\n",
       "  possibly_sensitive      hashtags                         user_mentions  \\\n",
       "0              False           NaN                                   NaN   \n",
       "1                NaN  TOTW, FIFA20  ChelseaFC, cpulisic_10, EASPORTSFIFA   \n",
       "2                NaN           NaN                          ZidanesGlory   \n",
       "3                NaN           NaN             rugbyworldcup, Mastercard   \n",
       "4                NaN       ENGvRSA             rugbyworldcup, Mastercard   \n",
       "\n",
       "                    place place_coord_boundaries  \n",
       "0                     NaN                    NaN  \n",
       "1  chittagong ,bangladesh                    NaN  \n",
       "2                     NaN                    NaN  \n",
       "3                     NaN                    NaN  \n",
       "4            South Africa                    NaN  "
      ]
     },
     "execution_count": 15,
     "metadata": {},
     "output_type": "execute_result"
    }
   ],
   "source": [
    "twitter_csv_data = pd.read_csv(\"/home/ronny/Documentos/Homework/retrieve_tweets_data.csv\")\n",
    "twitter_csv_data[:5]"
   ]
  },
  {
   "cell_type": "code",
   "execution_count": 16,
   "metadata": {},
   "outputs": [],
   "source": [
    "COLS = ['created_at','clean_text', 'sentiment','subjectivity','polarity']\n",
    "df = pd.DataFrame(columns=COLS)"
   ]
  },
  {
   "cell_type": "code",
   "execution_count": 17,
   "metadata": {},
   "outputs": [],
   "source": [
    "for index, row in islice(twitter_csv_data.iterrows(), 0, None):\n",
    "    new_entry = []\n",
    "    text_lower = (row['clean_text']).lower()\n",
    "    blob = TextBlob(text_lower)\n",
    "    sentiment = blob.sentiment\n",
    "\n",
    "    polarity = sentiment.polarity\n",
    "    subjectivity = sentiment.subjectivity\n",
    " \n",
    "    new_entry += [row['created_at'],text_lower,sentiment,subjectivity,polarity]\n",
    "        \n",
    "    single_survey_sentimet_df = pd.DataFrame([new_entry], columns=COLS)\n",
    "    df = df.append(single_survey_sentimet_df, ignore_index=True)\n",
    "\n",
    "df.to_csv('/home/ronny/Documentos/Homework/retrieve_tweets_sentiment_values.csv', mode='w', columns=COLS, index=False, encoding=\"utf-8\")"
   ]
  },
  {
   "cell_type": "code",
   "execution_count": 18,
   "metadata": {},
   "outputs": [
    {
     "data": {
      "text/html": [
       "<div>\n",
       "<style scoped>\n",
       "    .dataframe tbody tr th:only-of-type {\n",
       "        vertical-align: middle;\n",
       "    }\n",
       "\n",
       "    .dataframe tbody tr th {\n",
       "        vertical-align: top;\n",
       "    }\n",
       "\n",
       "    .dataframe thead th {\n",
       "        text-align: right;\n",
       "    }\n",
       "</style>\n",
       "<table border=\"1\" class=\"dataframe\">\n",
       "  <thead>\n",
       "    <tr style=\"text-align: right;\">\n",
       "      <th></th>\n",
       "      <th>created_at</th>\n",
       "      <th>clean_text</th>\n",
       "      <th>sentiment</th>\n",
       "      <th>subjectivity</th>\n",
       "      <th>polarity</th>\n",
       "    </tr>\n",
       "  </thead>\n",
       "  <tbody>\n",
       "    <tr>\n",
       "      <td>0</td>\n",
       "      <td>Sat Nov 02 12:34:22 +0000 2019</td>\n",
       "      <td>once upon a time in… hollywood – steelbook edi...</td>\n",
       "      <td>(0.0, 0.0)</td>\n",
       "      <td>0.000000</td>\n",
       "      <td>0.000000e+00</td>\n",
       "    </tr>\n",
       "    <tr>\n",
       "      <td>1</td>\n",
       "      <td>Sat Nov 02 12:34:16 +0000 2019</td>\n",
       "      <td>a perfect hat-trick burnley sees named team we...</td>\n",
       "      <td>(1.0, 1.0)</td>\n",
       "      <td>1.000000</td>\n",
       "      <td>1.000000e+00</td>\n",
       "    </tr>\n",
       "    <tr>\n",
       "      <td>2</td>\n",
       "      <td>Sat Nov 02 12:34:13 +0000 2019</td>\n",
       "      <td>giveaway win 00 fifa points paypal value €100 ...</td>\n",
       "      <td>(0.65, 0.575)</td>\n",
       "      <td>0.575000</td>\n",
       "      <td>6.500000e-01</td>\n",
       "    </tr>\n",
       "    <tr>\n",
       "      <td>3</td>\n",
       "      <td>Sat Nov 02 12:34:11 +0000 2019</td>\n",
       "      <td>after huge game duane vermeulen ＠mastercard pl...</td>\n",
       "      <td>(1.850371707708594e-17, 0.7666666666666666)</td>\n",
       "      <td>0.766667</td>\n",
       "      <td>1.850372e-17</td>\n",
       "    </tr>\n",
       "    <tr>\n",
       "      <td>4</td>\n",
       "      <td>Sat Nov 02 12:34:05 +0000 2019</td>\n",
       "      <td>the player match – duane vermeulen the number ...</td>\n",
       "      <td>(0.0, 0.15476190476190477)</td>\n",
       "      <td>0.154762</td>\n",
       "      <td>0.000000e+00</td>\n",
       "    </tr>\n",
       "  </tbody>\n",
       "</table>\n",
       "</div>"
      ],
      "text/plain": [
       "                       created_at  \\\n",
       "0  Sat Nov 02 12:34:22 +0000 2019   \n",
       "1  Sat Nov 02 12:34:16 +0000 2019   \n",
       "2  Sat Nov 02 12:34:13 +0000 2019   \n",
       "3  Sat Nov 02 12:34:11 +0000 2019   \n",
       "4  Sat Nov 02 12:34:05 +0000 2019   \n",
       "\n",
       "                                          clean_text  \\\n",
       "0  once upon a time in… hollywood – steelbook edi...   \n",
       "1  a perfect hat-trick burnley sees named team we...   \n",
       "2  giveaway win 00 fifa points paypal value €100 ...   \n",
       "3  after huge game duane vermeulen ＠mastercard pl...   \n",
       "4  the player match – duane vermeulen the number ...   \n",
       "\n",
       "                                     sentiment  subjectivity      polarity  \n",
       "0                                   (0.0, 0.0)      0.000000  0.000000e+00  \n",
       "1                                   (1.0, 1.0)      1.000000  1.000000e+00  \n",
       "2                                (0.65, 0.575)      0.575000  6.500000e-01  \n",
       "3  (1.850371707708594e-17, 0.7666666666666666)      0.766667  1.850372e-17  \n",
       "4                   (0.0, 0.15476190476190477)      0.154762  0.000000e+00  "
      ]
     },
     "execution_count": 18,
     "metadata": {},
     "output_type": "execute_result"
    }
   ],
   "source": [
    "df.head()"
   ]
  },
  {
   "cell_type": "code",
   "execution_count": 19,
   "metadata": {},
   "outputs": [
    {
     "data": {
      "text/html": [
       "<div>\n",
       "<style scoped>\n",
       "    .dataframe tbody tr th:only-of-type {\n",
       "        vertical-align: middle;\n",
       "    }\n",
       "\n",
       "    .dataframe tbody tr th {\n",
       "        vertical-align: top;\n",
       "    }\n",
       "\n",
       "    .dataframe thead th {\n",
       "        text-align: right;\n",
       "    }\n",
       "</style>\n",
       "<table border=\"1\" class=\"dataframe\">\n",
       "  <thead>\n",
       "    <tr style=\"text-align: right;\">\n",
       "      <th></th>\n",
       "      <th>subjectivity</th>\n",
       "      <th>polarity</th>\n",
       "    </tr>\n",
       "  </thead>\n",
       "  <tbody>\n",
       "    <tr>\n",
       "      <td>count</td>\n",
       "      <td>21885.000000</td>\n",
       "      <td>2.188500e+04</td>\n",
       "    </tr>\n",
       "    <tr>\n",
       "      <td>mean</td>\n",
       "      <td>0.487542</td>\n",
       "      <td>9.715367e-02</td>\n",
       "    </tr>\n",
       "    <tr>\n",
       "      <td>std</td>\n",
       "      <td>0.329099</td>\n",
       "      <td>2.621345e-01</td>\n",
       "    </tr>\n",
       "    <tr>\n",
       "      <td>min</td>\n",
       "      <td>0.000000</td>\n",
       "      <td>-1.000000e+00</td>\n",
       "    </tr>\n",
       "    <tr>\n",
       "      <td>25%</td>\n",
       "      <td>0.154762</td>\n",
       "      <td>0.000000e+00</td>\n",
       "    </tr>\n",
       "    <tr>\n",
       "      <td>50%</td>\n",
       "      <td>0.575000</td>\n",
       "      <td>1.850372e-17</td>\n",
       "    </tr>\n",
       "    <tr>\n",
       "      <td>75%</td>\n",
       "      <td>0.766667</td>\n",
       "      <td>1.121212e-01</td>\n",
       "    </tr>\n",
       "    <tr>\n",
       "      <td>max</td>\n",
       "      <td>1.000000</td>\n",
       "      <td>1.000000e+00</td>\n",
       "    </tr>\n",
       "  </tbody>\n",
       "</table>\n",
       "</div>"
      ],
      "text/plain": [
       "       subjectivity      polarity\n",
       "count  21885.000000  2.188500e+04\n",
       "mean       0.487542  9.715367e-02\n",
       "std        0.329099  2.621345e-01\n",
       "min        0.000000 -1.000000e+00\n",
       "25%        0.154762  0.000000e+00\n",
       "50%        0.575000  1.850372e-17\n",
       "75%        0.766667  1.121212e-01\n",
       "max        1.000000  1.000000e+00"
      ]
     },
     "execution_count": 19,
     "metadata": {},
     "output_type": "execute_result"
    }
   ],
   "source": [
    "df.describe()"
   ]
  },
  {
   "cell_type": "code",
   "execution_count": 20,
   "metadata": {},
   "outputs": [
    {
     "data": {
      "text/html": [
       "<div>\n",
       "<style scoped>\n",
       "    .dataframe tbody tr th:only-of-type {\n",
       "        vertical-align: middle;\n",
       "    }\n",
       "\n",
       "    .dataframe tbody tr th {\n",
       "        vertical-align: top;\n",
       "    }\n",
       "\n",
       "    .dataframe thead th {\n",
       "        text-align: right;\n",
       "    }\n",
       "</style>\n",
       "<table border=\"1\" class=\"dataframe\">\n",
       "  <thead>\n",
       "    <tr style=\"text-align: right;\">\n",
       "      <th></th>\n",
       "      <th>subjectivity</th>\n",
       "      <th>polarity</th>\n",
       "    </tr>\n",
       "  </thead>\n",
       "  <tbody>\n",
       "    <tr>\n",
       "      <td>count</td>\n",
       "      <td>17113.000000</td>\n",
       "      <td>1.711300e+04</td>\n",
       "    </tr>\n",
       "    <tr>\n",
       "      <td>mean</td>\n",
       "      <td>0.623494</td>\n",
       "      <td>1.242452e-01</td>\n",
       "    </tr>\n",
       "    <tr>\n",
       "      <td>std</td>\n",
       "      <td>0.231816</td>\n",
       "      <td>2.907071e-01</td>\n",
       "    </tr>\n",
       "    <tr>\n",
       "      <td>min</td>\n",
       "      <td>0.000000</td>\n",
       "      <td>-1.000000e+00</td>\n",
       "    </tr>\n",
       "    <tr>\n",
       "      <td>25%</td>\n",
       "      <td>0.462500</td>\n",
       "      <td>1.850372e-17</td>\n",
       "    </tr>\n",
       "    <tr>\n",
       "      <td>50%</td>\n",
       "      <td>0.766667</td>\n",
       "      <td>1.850372e-17</td>\n",
       "    </tr>\n",
       "    <tr>\n",
       "      <td>75%</td>\n",
       "      <td>0.766667</td>\n",
       "      <td>2.000000e-01</td>\n",
       "    </tr>\n",
       "    <tr>\n",
       "      <td>max</td>\n",
       "      <td>1.000000</td>\n",
       "      <td>1.000000e+00</td>\n",
       "    </tr>\n",
       "  </tbody>\n",
       "</table>\n",
       "</div>"
      ],
      "text/plain": [
       "       subjectivity      polarity\n",
       "count  17113.000000  1.711300e+04\n",
       "mean       0.623494  1.242452e-01\n",
       "std        0.231816  2.907071e-01\n",
       "min        0.000000 -1.000000e+00\n",
       "25%        0.462500  1.850372e-17\n",
       "50%        0.766667  1.850372e-17\n",
       "75%        0.766667  2.000000e-01\n",
       "max        1.000000  1.000000e+00"
      ]
     },
     "execution_count": 20,
     "metadata": {},
     "output_type": "execute_result"
    }
   ],
   "source": [
    "dffilter = df.loc[(df.loc[:, df.dtypes != object] != 0).any(1)]\n",
    "dffilter.describe()"
   ]
  },
  {
   "cell_type": "code",
   "execution_count": 21,
   "metadata": {},
   "outputs": [
    {
     "name": "stdout",
     "output_type": "stream",
     "text": [
      "The analysis has detected 4772 Neutral polarities (polarity is 0)\n"
     ]
    }
   ],
   "source": [
    "neutral = len(df) - len(dffilter)\n",
    "print('The analysis has detected', neutral, 'Neutral polarities (polarity is 0)')"
   ]
  },
  {
   "cell_type": "markdown",
   "metadata": {},
   "source": [
    "## Boxplot"
   ]
  },
  {
   "cell_type": "code",
   "execution_count": 22,
   "metadata": {},
   "outputs": [
    {
     "data": {
      "image/png": "[encoded data removed]",
      "text/plain": [
       "<Figure size 1152x432 with 1 Axes>"
      ]
     },
     "metadata": {
      "needs_background": "light"
     },
     "output_type": "display_data"
    }
   ],
   "source": [
    "boxplot = dffilter.boxplot(column=['subjectivity','polarity'],patch_artist=True,fontsize = 15,grid = True, vert=True,figsize=(16,6,))"
   ]
  },
  {
   "cell_type": "markdown",
   "metadata": {},
   "source": [
    "## Scatterplot"
   ]
  },
  {
   "cell_type": "code",
   "execution_count": 23,
   "metadata": {},
   "outputs": [
    {
     "data": {
      "text/plain": [
       "<seaborn.axisgrid.FacetGrid at 0x7fe01d1196a0>"
      ]
     },
     "execution_count": 23,
     "metadata": {},
     "output_type": "execute_result"
    },
    {
     "data": {
      "image/png": "[encoded data removed]",
      "text/plain": [
       "<Figure size 576x576 with 1 Axes>"
      ]
     },
     "metadata": {
      "needs_background": "light"
     },
     "output_type": "display_data"
    }
   ],
   "source": [
    "sns.lmplot(x='subjectivity',y='polarity',data=dffilter,fit_reg=True,scatter=True, height=8,palette=\"mute\") "
   ]
  },
  {
   "cell_type": "code",
   "execution_count": 24,
   "metadata": {},
   "outputs": [
    {
     "name": "stdout",
     "output_type": "stream",
     "text": [
      "[[0.0537387  0.06367091]\n",
      " [0.06367091 0.15811374]]\n",
      "Pearsons correlation: 0.69074\n"
     ]
    }
   ],
   "source": [
    "# calculate the covariance between two variables\n",
    "\n",
    "# prepare data\n",
    "data1 = dffilter['subjectivity']\n",
    "data2 = data1 + dffilter['polarity']\n",
    "# calculate covariance matrix\n",
    "covariance = cov(data1, data2) \n",
    "print(covariance)\n",
    "\n",
    "corr, _ = pearsonr(data1, data2)\n",
    "print('Pearsons correlation: %.5f' % corr)"
   ]
  },
  {
   "cell_type": "code",
   "execution_count": 25,
   "metadata": {},
   "outputs": [
    {
     "data": {
      "image/png": "[encoded data removed]",
      "text/plain": [
       "<Figure size 432x288 with 1 Axes>"
      ]
     },
     "metadata": {
      "needs_background": "light"
     },
     "output_type": "display_data"
    }
   ],
   "source": [
    "#Polarity Distribution for dffilter\n",
    "\n",
    "plt.hist(dffilter['polarity'], color = 'b', edgecolor = 'black', density=False,\n",
    "         bins = int(20))\n",
    "plt.title('Polarity Distribution')\n",
    "plt.xlabel(\"Polarity\")\n",
    "plt.ylabel(\"Number of TImes\")\n",
    "\n",
    "from pylab import rcParams\n",
    "rcParams['figure.figsize'] = 16,4"
   ]
  },
  {
   "cell_type": "code",
   "execution_count": 26,
   "metadata": {},
   "outputs": [
    {
     "data": {
      "image/png": "[encoded data removed]",
      "text/plain": [
       "<Figure size 1152x288 with 1 Axes>"
      ]
     },
     "metadata": {
      "needs_background": "light"
     },
     "output_type": "display_data"
    }
   ],
   "source": [
    "sns.distplot(dffilter['polarity'], hist=True, kde=True, \n",
    "             bins=int(30), color = 'b',\n",
    "             hist_kws={'edgecolor':'black'},axlabel ='Polarity')\n",
    "plt.title('Polarity Density')\n",
    "\n",
    "from pylab import rcParams\n",
    "rcParams['figure.figsize'] = 16,4"
   ]
  },
  {
   "cell_type": "markdown",
   "metadata": {},
   "source": [
    "# Frequent Words"
   ]
  },
  {
   "cell_type": "code",
   "execution_count": 27,
   "metadata": {},
   "outputs": [],
   "source": [
    "#Importing stopwords\n",
    "stopwords = nltk.corpus.stopwords.words('english')"
   ]
  },
  {
   "cell_type": "code",
   "execution_count": 28,
   "metadata": {},
   "outputs": [],
   "source": [
    "RE_stopwords = r'\\b(?:{})\\b'.format('|'.join(stopwords))\n",
    "words = (df.clean_text.str.lower().replace([r'\\|',r'\\&',r'\\-',r'\\.',r'\\,',r'\\'', \n",
    "                                      RE_stopwords], [' ', '','','','','',''], regex=True).str.cat(sep=' ').split()\n",
    ")"
   ]
  },
  {
   "cell_type": "code",
   "execution_count": 29,
   "metadata": {},
   "outputs": [
    {
     "data": {
      "text/html": [
       "<div>\n",
       "<style scoped>\n",
       "    .dataframe tbody tr th:only-of-type {\n",
       "        vertical-align: middle;\n",
       "    }\n",
       "\n",
       "    .dataframe tbody tr th {\n",
       "        vertical-align: top;\n",
       "    }\n",
       "\n",
       "    .dataframe thead th {\n",
       "        text-align: right;\n",
       "    }\n",
       "</style>\n",
       "<table border=\"1\" class=\"dataframe\">\n",
       "  <thead>\n",
       "    <tr style=\"text-align: right;\">\n",
       "      <th></th>\n",
       "      <th>Frequency</th>\n",
       "    </tr>\n",
       "    <tr>\n",
       "      <th>Word</th>\n",
       "      <th></th>\n",
       "    </tr>\n",
       "  </thead>\n",
       "  <tbody>\n",
       "    <tr>\n",
       "      <td>…</td>\n",
       "      <td>12785</td>\n",
       "    </tr>\n",
       "    <tr>\n",
       "      <td>player</td>\n",
       "      <td>8883</td>\n",
       "    </tr>\n",
       "    <tr>\n",
       "      <td>match</td>\n",
       "      <td>8838</td>\n",
       "    </tr>\n",
       "    <tr>\n",
       "      <td>game</td>\n",
       "      <td>8605</td>\n",
       "    </tr>\n",
       "    <tr>\n",
       "      <td>duane</td>\n",
       "      <td>8364</td>\n",
       "    </tr>\n",
       "    <tr>\n",
       "      <td>vermeulen</td>\n",
       "      <td>8356</td>\n",
       "    </tr>\n",
       "    <tr>\n",
       "      <td>final</td>\n",
       "      <td>7506</td>\n",
       "    </tr>\n",
       "    <tr>\n",
       "      <td>world</td>\n",
       "      <td>7499</td>\n",
       "    </tr>\n",
       "    <tr>\n",
       "      <td>cup</td>\n",
       "      <td>7456</td>\n",
       "    </tr>\n",
       "    <tr>\n",
       "      <td>rugby</td>\n",
       "      <td>7450</td>\n",
       "    </tr>\n",
       "    <tr>\n",
       "      <td>huge</td>\n",
       "      <td>7418</td>\n",
       "    </tr>\n",
       "    <tr>\n",
       "      <td>carries</td>\n",
       "      <td>7412</td>\n",
       "    </tr>\n",
       "  </tbody>\n",
       "</table>\n",
       "</div>"
      ],
      "text/plain": [
       "           Frequency\n",
       "Word                \n",
       "…              12785\n",
       "player          8883\n",
       "match           8838\n",
       "game            8605\n",
       "duane           8364\n",
       "vermeulen       8356\n",
       "final           7506\n",
       "world           7499\n",
       "cup             7456\n",
       "rugby           7450\n",
       "huge            7418\n",
       "carries         7412"
      ]
     },
     "execution_count": 29,
     "metadata": {},
     "output_type": "execute_result"
    }
   ],
   "source": [
    "# generate DF out of Counter\n",
    "rslt = pd.DataFrame(Counter(words).most_common(12),\n",
    "                    columns=['Word', 'Frequency']).set_index('Word')\n",
    "rslt"
   ]
  },
  {
   "cell_type": "markdown",
   "metadata": {},
   "source": [
    "## Wordcloud"
   ]
  },
  {
   "cell_type": "code",
   "execution_count": 33,
   "metadata": {},
   "outputs": [
    {
     "data": {
      "image/png": "[encoded data removed]",
      "text/plain": [
       "<Figure size 1152x288 with 1 Axes>"
      ]
     },
     "metadata": {
      "needs_background": "light"
     },
     "output_type": "display_data"
    },
    {
     "data": {
      "text/plain": [
       "<Figure size 1152x1152 with 0 Axes>"
      ]
     },
     "metadata": {},
     "output_type": "display_data"
    }
   ],
   "source": [
    "rslt_wordcloud = pd.DataFrame(Counter(words).most_common(100),\n",
    "                    columns=['Word', 'Frequency'])\n",
    "\n",
    "wordcloud = WordCloud(max_font_size=60, max_words=50, width=480, height=380,colormap=\"brg\",\n",
    "                      background_color=\"white\").generate(' '.join(rslt_wordcloud['Word']))\n",
    "                      \n",
    "plt.imshow(wordcloud, interpolation='bilinear')\n",
    "plt.axis(\"off\")\n",
    "plt.figure(figsize=[16,16])\n",
    "plt.show()"
   ]
  },
  {
   "cell_type": "markdown",
   "metadata": {},
   "source": [
    "# Getting longitude-latitude coordinates for a list of cities"
   ]
  },
  {
   "cell_type": "code",
   "execution_count": 40,
   "metadata": {},
   "outputs": [],
   "source": [
    "col2 = ['polarity', 'subjectivity', 'place']\n",
    "place_sent = pd.DataFrame(columns=col2)"
   ]
  },
  {
   "cell_type": "code",
   "execution_count": 49,
   "metadata": {},
   "outputs": [
    {
     "data": {
      "text/html": [
       "<div>\n",
       "<style scoped>\n",
       "    .dataframe tbody tr th:only-of-type {\n",
       "        vertical-align: middle;\n",
       "    }\n",
       "\n",
       "    .dataframe tbody tr th {\n",
       "        vertical-align: top;\n",
       "    }\n",
       "\n",
       "    .dataframe thead th {\n",
       "        text-align: right;\n",
       "    }\n",
       "</style>\n",
       "<table border=\"1\" class=\"dataframe\">\n",
       "  <thead>\n",
       "    <tr style=\"text-align: right;\">\n",
       "      <th></th>\n",
       "      <th>polarity</th>\n",
       "      <th>subjectivity</th>\n",
       "      <th>place</th>\n",
       "    </tr>\n",
       "  </thead>\n",
       "  <tbody>\n",
       "    <tr>\n",
       "      <td>0</td>\n",
       "      <td>0.0</td>\n",
       "      <td>0.0</td>\n",
       "      <td>NaN</td>\n",
       "    </tr>\n",
       "    <tr>\n",
       "      <td>1</td>\n",
       "      <td>1.0</td>\n",
       "      <td>1.0</td>\n",
       "      <td>chittagong ,bangladesh</td>\n",
       "    </tr>\n",
       "    <tr>\n",
       "      <td>2</td>\n",
       "      <td>0.65</td>\n",
       "      <td>0.575</td>\n",
       "      <td>NaN</td>\n",
       "    </tr>\n",
       "    <tr>\n",
       "      <td>3</td>\n",
       "      <td>1.850371707708594e-17</td>\n",
       "      <td>0.7666666666666666</td>\n",
       "      <td>NaN</td>\n",
       "    </tr>\n",
       "    <tr>\n",
       "      <td>4</td>\n",
       "      <td>0.0</td>\n",
       "      <td>0.15476190476190477</td>\n",
       "      <td>South Africa</td>\n",
       "    </tr>\n",
       "  </tbody>\n",
       "</table>\n",
       "</div>"
      ],
      "text/plain": [
       "                polarity         subjectivity                   place\n",
       "0                    0.0                  0.0                     NaN\n",
       "1                    1.0                  1.0  chittagong ,bangladesh\n",
       "2                   0.65                0.575                     NaN\n",
       "3  1.850371707708594e-17   0.7666666666666666                     NaN\n",
       "4                    0.0  0.15476190476190477            South Africa"
      ]
     },
     "execution_count": 49,
     "metadata": {},
     "output_type": "execute_result"
    }
   ],
   "source": [
    "place_sent = [twitter_csv_data['polarity'], twitter_csv_data['subjectivity'], twitter_csv_data['place']]\n",
    "place_sent = pd.DataFrame(place_sent).T\n",
    "place_sent[:5]"
   ]
  },
  {
   "cell_type": "code",
   "execution_count": 51,
   "metadata": {},
   "outputs": [
    {
     "data": {
      "text/html": [
       "<div>\n",
       "<style scoped>\n",
       "    .dataframe tbody tr th:only-of-type {\n",
       "        vertical-align: middle;\n",
       "    }\n",
       "\n",
       "    .dataframe tbody tr th {\n",
       "        vertical-align: top;\n",
       "    }\n",
       "\n",
       "    .dataframe thead th {\n",
       "        text-align: right;\n",
       "    }\n",
       "</style>\n",
       "<table border=\"1\" class=\"dataframe\">\n",
       "  <thead>\n",
       "    <tr style=\"text-align: right;\">\n",
       "      <th></th>\n",
       "      <th>polarity</th>\n",
       "      <th>subjectivity</th>\n",
       "      <th>place</th>\n",
       "    </tr>\n",
       "  </thead>\n",
       "  <tbody>\n",
       "    <tr>\n",
       "      <td>1</td>\n",
       "      <td>1.0</td>\n",
       "      <td>1.0</td>\n",
       "      <td>chittagong ,bangladesh</td>\n",
       "    </tr>\n",
       "    <tr>\n",
       "      <td>4</td>\n",
       "      <td>0.0</td>\n",
       "      <td>0.15476190476190477</td>\n",
       "      <td>South Africa</td>\n",
       "    </tr>\n",
       "    <tr>\n",
       "      <td>5</td>\n",
       "      <td>1.850371707708594e-17</td>\n",
       "      <td>0.7666666666666666</td>\n",
       "      <td>東京の下の方</td>\n",
       "    </tr>\n",
       "    <tr>\n",
       "      <td>6</td>\n",
       "      <td>1.850371707708594e-17</td>\n",
       "      <td>0.7666666666666666</td>\n",
       "      <td>Saitama</td>\n",
       "    </tr>\n",
       "    <tr>\n",
       "      <td>7</td>\n",
       "      <td>0.13636363636363635</td>\n",
       "      <td>0.5</td>\n",
       "      <td>San Francisco, CA</td>\n",
       "    </tr>\n",
       "  </tbody>\n",
       "</table>\n",
       "</div>"
      ],
      "text/plain": [
       "                polarity         subjectivity                   place\n",
       "1                    1.0                  1.0  chittagong ,bangladesh\n",
       "4                    0.0  0.15476190476190477            South Africa\n",
       "5  1.850371707708594e-17   0.7666666666666666                  東京の下の方\n",
       "6  1.850371707708594e-17   0.7666666666666666                 Saitama\n",
       "7    0.13636363636363635                  0.5       San Francisco, CA"
      ]
     },
     "execution_count": 51,
     "metadata": {},
     "output_type": "execute_result"
    }
   ],
   "source": [
    "place_sent_mod = place_sent.dropna()\n",
    "place_sent_mod[:5]"
   ]
  },
  {
   "cell_type": "code",
   "execution_count": null,
   "metadata": {},
   "outputs": [],
   "source": [
    "#Some place are in different languages, so this one needs to be translate\n",
    "list_transl = []   # create empty lists\n",
    "\n",
    "place_data = pd.DataFrame(place_sent_mod['place'])\n",
    "\n",
    "for index, row in place_data.iterrows(): # iterate over rows in dataframe\n",
    "    query = str(row)\n",
    "    results = mtranslate.translate(query, \"en\",\"auto\")\n",
    "    list_transl.append(results)"
   ]
  },
  {
   "cell_type": "code",
   "execution_count": null,
   "metadata": {},
   "outputs": [],
   "source": [
    "#Transform places in coordinates (X,Y)\n",
    "#OpenCageGeocode key\n",
    "# @hidden_cell\n",
    "key = '524066718c7c42609877106eae01295f' \n",
    "geocoder = OpenCageGeocode(key)"
   ]
  },
  {
   "cell_type": "code",
   "execution_count": null,
   "metadata": {},
   "outputs": [],
   "source": [
    "list_lat = []   # create empty lists\n",
    "list_long = []\n",
    "\n",
    "for index, row in list_transl.iterrows(): # iterate over rows in dataframe\n",
    "    query = str(row)\n",
    "    results = geocoder.geocode(query)   \n",
    "    lat = results[0]['geometry']['lat']\n",
    "    long = results[0]['geometry']['lng']\n",
    "\n",
    "    list_lat.append(lat)\n",
    "    list_long.append(long)\n",
    "\n",
    "# create new columns from lists    \n",
    "\n",
    "list_transl['lat'] = list_lat   \n",
    "list_transl['lon'] = list_long"
   ]
  }
 ],
 "metadata": {
  "kernelspec": {
   "display_name": "Python 3",
   "language": "python",
   "name": "python3"
  },
  "language_info": {
   "codemirror_mode": {
    "name": "ipython",
    "version": 3
   },
   "file_extension": ".py",
   "mimetype": "text/x-python",
   "name": "python",
   "nbconvert_exporter": "python",
   "pygments_lexer": "ipython3",
   "version": "3.7.3"
  }
 },
 "nbformat": 4,
 "nbformat_minor": 2
}
