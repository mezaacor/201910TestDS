{
 "cells": [
  {
   "cell_type": "markdown",
   "metadata": {},
   "source": [
    "# Fifa 2018 Exploratory Data Analysis\n",
    "### by Ronny Meza"
   ]
  },
  {
   "cell_type": "markdown",
   "metadata": {},
   "source": [
    "## Objective 1"
   ]
  },
  {
   "cell_type": "markdown",
   "metadata": {},
   "source": [
    "In this section it is necessary to know what languages are the best for translating the game into many others (this is <font color=blue>Localizate the Game</font> ). For that, we have information about the player of one ours games."
   ]
  },
  {
   "cell_type": "code",
   "execution_count": 71,
   "metadata": {},
   "outputs": [],
   "source": [
    "#Libraries\n",
    "import numpy as np\n",
    "import pandas as pd\n",
    "import csv\n",
    "import re\n",
    "import sqlite3\n",
    "from collections import Counter\n",
    "import matplotlib.pyplot as plt\n",
    "import matplotlib.patches as mpatches\n",
    "import json\n",
    "import requests\n",
    "import pylab as pl\n",
    "from sklearn.preprocessing import LabelEncoder\n",
    "from sklearn.model_selection import train_test_split\n",
    "from sklearn.preprocessing import MinMaxScaler\n",
    "from sklearn.neighbors import KNeighborsClassifier\n",
    "from sklearn.metrics import classification_report\n",
    "from sklearn.metrics import confusion_matrix\n",
    "from matplotlib.colors import ListedColormap\n",
    "import tweepy \n",
    "from textblob import TextBlob \n",
    "import seaborn as sns\n",
    "from twython import TwythonStreamer"
   ]
  },
  {
   "cell_type": "code",
   "execution_count": 2,
   "metadata": {},
   "outputs": [
    {
     "name": "stderr",
     "output_type": "stream",
     "text": [
      "/home/ronny/anaconda3/lib/python3.7/site-packages/IPython/core/interactiveshell.py:3058: DtypeWarning: Columns (23,35) have mixed types. Specify dtype option on import or set low_memory=False.\n",
      "  interactivity=interactivity, compiler=compiler, result=result)\n"
     ]
    }
   ],
   "source": [
    "#Reading Data\n",
    "fifa18_data = pd.read_csv('fifa-18-demo-player-dataset/CompleteDataset.csv', index_col = 'Unnamed: 0')"
   ]
  },
  {
   "cell_type": "code",
   "execution_count": 3,
   "metadata": {},
   "outputs": [
    {
     "data": {
      "text/plain": [
       "Index(['Name', 'Age', 'Photo', 'Nationality', 'Flag', 'Overall', 'Potential',\n",
       "       'Club', 'Club Logo', 'Value', 'Wage', 'Special', 'Acceleration',\n",
       "       'Aggression', 'Agility', 'Balance', 'Ball control', 'Composure',\n",
       "       'Crossing', 'Curve', 'Dribbling', 'Finishing', 'Free kick accuracy',\n",
       "       'GK diving', 'GK handling', 'GK kicking', 'GK positioning',\n",
       "       'GK reflexes', 'Heading accuracy', 'Interceptions', 'Jumping',\n",
       "       'Long passing', 'Long shots', 'Marking', 'Penalties', 'Positioning',\n",
       "       'Reactions', 'Short passing', 'Shot power', 'Sliding tackle',\n",
       "       'Sprint speed', 'Stamina', 'Standing tackle', 'Strength', 'Vision',\n",
       "       'Volleys', 'CAM', 'CB', 'CDM', 'CF', 'CM', 'ID', 'LAM', 'LB', 'LCB',\n",
       "       'LCM', 'LDM', 'LF', 'LM', 'LS', 'LW', 'LWB', 'Preferred_Positions',\n",
       "       'RAM', 'RB', 'RCB', 'RCM', 'RDM', 'RF', 'RM', 'RS', 'RW', 'RWB', 'ST'],\n",
       "      dtype='object')"
      ]
     },
     "execution_count": 3,
     "metadata": {},
     "output_type": "execute_result"
    }
   ],
   "source": [
    "#Checking the header\n",
    "fifa18_data.columns"
   ]
  },
  {
   "cell_type": "code",
   "execution_count": 4,
   "metadata": {},
   "outputs": [
    {
     "data": {
      "text/html": [
       "<div>\n",
       "<style scoped>\n",
       "    .dataframe tbody tr th:only-of-type {\n",
       "        vertical-align: middle;\n",
       "    }\n",
       "\n",
       "    .dataframe tbody tr th {\n",
       "        vertical-align: top;\n",
       "    }\n",
       "\n",
       "    .dataframe thead th {\n",
       "        text-align: right;\n",
       "    }\n",
       "</style>\n",
       "<table border=\"1\" class=\"dataframe\">\n",
       "  <thead>\n",
       "    <tr style=\"text-align: right;\">\n",
       "      <th></th>\n",
       "      <th>Name</th>\n",
       "      <th>Age</th>\n",
       "      <th>Photo</th>\n",
       "      <th>Nationality</th>\n",
       "      <th>Flag</th>\n",
       "      <th>Overall</th>\n",
       "      <th>Potential</th>\n",
       "      <th>Club</th>\n",
       "      <th>Club Logo</th>\n",
       "      <th>Value</th>\n",
       "      <th>Wage</th>\n",
       "    </tr>\n",
       "  </thead>\n",
       "  <tbody>\n",
       "    <tr>\n",
       "      <td>0</td>\n",
       "      <td>Cristiano Ronaldo</td>\n",
       "      <td>32</td>\n",
       "      <td>https://cdn.sofifa.org/48/18/players/20801.png</td>\n",
       "      <td>Portugal</td>\n",
       "      <td>https://cdn.sofifa.org/flags/38.png</td>\n",
       "      <td>94</td>\n",
       "      <td>94</td>\n",
       "      <td>Real Madrid CF</td>\n",
       "      <td>https://cdn.sofifa.org/24/18/teams/243.png</td>\n",
       "      <td>€95.5M</td>\n",
       "      <td>€565K</td>\n",
       "    </tr>\n",
       "    <tr>\n",
       "      <td>1</td>\n",
       "      <td>L. Messi</td>\n",
       "      <td>30</td>\n",
       "      <td>https://cdn.sofifa.org/48/18/players/158023.png</td>\n",
       "      <td>Argentina</td>\n",
       "      <td>https://cdn.sofifa.org/flags/52.png</td>\n",
       "      <td>93</td>\n",
       "      <td>93</td>\n",
       "      <td>FC Barcelona</td>\n",
       "      <td>https://cdn.sofifa.org/24/18/teams/241.png</td>\n",
       "      <td>€105M</td>\n",
       "      <td>€565K</td>\n",
       "    </tr>\n",
       "    <tr>\n",
       "      <td>2</td>\n",
       "      <td>Neymar</td>\n",
       "      <td>25</td>\n",
       "      <td>https://cdn.sofifa.org/48/18/players/190871.png</td>\n",
       "      <td>Brazil</td>\n",
       "      <td>https://cdn.sofifa.org/flags/54.png</td>\n",
       "      <td>92</td>\n",
       "      <td>94</td>\n",
       "      <td>Paris Saint-Germain</td>\n",
       "      <td>https://cdn.sofifa.org/24/18/teams/73.png</td>\n",
       "      <td>€123M</td>\n",
       "      <td>€280K</td>\n",
       "    </tr>\n",
       "    <tr>\n",
       "      <td>3</td>\n",
       "      <td>L. Suárez</td>\n",
       "      <td>30</td>\n",
       "      <td>https://cdn.sofifa.org/48/18/players/176580.png</td>\n",
       "      <td>Uruguay</td>\n",
       "      <td>https://cdn.sofifa.org/flags/60.png</td>\n",
       "      <td>92</td>\n",
       "      <td>92</td>\n",
       "      <td>FC Barcelona</td>\n",
       "      <td>https://cdn.sofifa.org/24/18/teams/241.png</td>\n",
       "      <td>€97M</td>\n",
       "      <td>€510K</td>\n",
       "    </tr>\n",
       "    <tr>\n",
       "      <td>4</td>\n",
       "      <td>M. Neuer</td>\n",
       "      <td>31</td>\n",
       "      <td>https://cdn.sofifa.org/48/18/players/167495.png</td>\n",
       "      <td>Germany</td>\n",
       "      <td>https://cdn.sofifa.org/flags/21.png</td>\n",
       "      <td>92</td>\n",
       "      <td>92</td>\n",
       "      <td>FC Bayern Munich</td>\n",
       "      <td>https://cdn.sofifa.org/24/18/teams/21.png</td>\n",
       "      <td>€61M</td>\n",
       "      <td>€230K</td>\n",
       "    </tr>\n",
       "  </tbody>\n",
       "</table>\n",
       "</div>"
      ],
      "text/plain": [
       "                Name  Age                                            Photo  \\\n",
       "0  Cristiano Ronaldo   32   https://cdn.sofifa.org/48/18/players/20801.png   \n",
       "1           L. Messi   30  https://cdn.sofifa.org/48/18/players/158023.png   \n",
       "2             Neymar   25  https://cdn.sofifa.org/48/18/players/190871.png   \n",
       "3          L. Suárez   30  https://cdn.sofifa.org/48/18/players/176580.png   \n",
       "4           M. Neuer   31  https://cdn.sofifa.org/48/18/players/167495.png   \n",
       "\n",
       "  Nationality                                 Flag  Overall  Potential  \\\n",
       "0    Portugal  https://cdn.sofifa.org/flags/38.png       94         94   \n",
       "1   Argentina  https://cdn.sofifa.org/flags/52.png       93         93   \n",
       "2      Brazil  https://cdn.sofifa.org/flags/54.png       92         94   \n",
       "3     Uruguay  https://cdn.sofifa.org/flags/60.png       92         92   \n",
       "4     Germany  https://cdn.sofifa.org/flags/21.png       92         92   \n",
       "\n",
       "                  Club                                   Club Logo   Value  \\\n",
       "0       Real Madrid CF  https://cdn.sofifa.org/24/18/teams/243.png  €95.5M   \n",
       "1         FC Barcelona  https://cdn.sofifa.org/24/18/teams/241.png   €105M   \n",
       "2  Paris Saint-Germain   https://cdn.sofifa.org/24/18/teams/73.png   €123M   \n",
       "3         FC Barcelona  https://cdn.sofifa.org/24/18/teams/241.png    €97M   \n",
       "4     FC Bayern Munich   https://cdn.sofifa.org/24/18/teams/21.png    €61M   \n",
       "\n",
       "    Wage  \n",
       "0  €565K  \n",
       "1  €565K  \n",
       "2  €280K  \n",
       "3  €510K  \n",
       "4  €230K  "
      ]
     },
     "execution_count": 4,
     "metadata": {},
     "output_type": "execute_result"
    }
   ],
   "source": [
    "#Dataframe visualization\n",
    "fifa18_data.iloc[:5, :11]"
   ]
  },
  {
   "cell_type": "markdown",
   "metadata": {},
   "source": [
    "In the previous table it is possible to see that ```Value``` and ```Wage``` are expressed in abbreviated format and indicate the currency type. Previous to import to DB it is necessary to transform these columns to numbers."
   ]
  },
  {
   "cell_type": "code",
   "execution_count": 5,
   "metadata": {},
   "outputs": [],
   "source": [
    "#Adjusting Wage and Value columns \n",
    "fifa18_data['Wage'] = fifa18_data['Wage'].apply(lambda x: int(re.findall('\\d+', x)[0] + '000'))\n",
    "fifa18_data['Value'] = fifa18_data['Value'].apply(lambda x: 'M' in x and int((re.findall('\\d+\\.*\\d*', x)[0] + '000000').replace('.', '')) or int((re.findall('\\d+\\.*\\d*', x)[0] + '000').replace('.', '')))"
   ]
  },
  {
   "cell_type": "code",
   "execution_count": 6,
   "metadata": {},
   "outputs": [
    {
     "data": {
      "text/html": [
       "<div>\n",
       "<style scoped>\n",
       "    .dataframe tbody tr th:only-of-type {\n",
       "        vertical-align: middle;\n",
       "    }\n",
       "\n",
       "    .dataframe tbody tr th {\n",
       "        vertical-align: top;\n",
       "    }\n",
       "\n",
       "    .dataframe thead th {\n",
       "        text-align: right;\n",
       "    }\n",
       "</style>\n",
       "<table border=\"1\" class=\"dataframe\">\n",
       "  <thead>\n",
       "    <tr style=\"text-align: right;\">\n",
       "      <th></th>\n",
       "      <th>Name</th>\n",
       "      <th>Age</th>\n",
       "      <th>Photo</th>\n",
       "      <th>Nationality</th>\n",
       "      <th>Flag</th>\n",
       "      <th>Overall</th>\n",
       "      <th>Potential</th>\n",
       "      <th>Club</th>\n",
       "      <th>Club Logo</th>\n",
       "      <th>Value</th>\n",
       "      <th>Wage</th>\n",
       "    </tr>\n",
       "  </thead>\n",
       "  <tbody>\n",
       "    <tr>\n",
       "      <td>0</td>\n",
       "      <td>Cristiano Ronaldo</td>\n",
       "      <td>32</td>\n",
       "      <td>https://cdn.sofifa.org/48/18/players/20801.png</td>\n",
       "      <td>Portugal</td>\n",
       "      <td>https://cdn.sofifa.org/flags/38.png</td>\n",
       "      <td>94</td>\n",
       "      <td>94</td>\n",
       "      <td>Real Madrid CF</td>\n",
       "      <td>https://cdn.sofifa.org/24/18/teams/243.png</td>\n",
       "      <td>955000000</td>\n",
       "      <td>565000</td>\n",
       "    </tr>\n",
       "    <tr>\n",
       "      <td>1</td>\n",
       "      <td>L. Messi</td>\n",
       "      <td>30</td>\n",
       "      <td>https://cdn.sofifa.org/48/18/players/158023.png</td>\n",
       "      <td>Argentina</td>\n",
       "      <td>https://cdn.sofifa.org/flags/52.png</td>\n",
       "      <td>93</td>\n",
       "      <td>93</td>\n",
       "      <td>FC Barcelona</td>\n",
       "      <td>https://cdn.sofifa.org/24/18/teams/241.png</td>\n",
       "      <td>105000000</td>\n",
       "      <td>565000</td>\n",
       "    </tr>\n",
       "    <tr>\n",
       "      <td>2</td>\n",
       "      <td>Neymar</td>\n",
       "      <td>25</td>\n",
       "      <td>https://cdn.sofifa.org/48/18/players/190871.png</td>\n",
       "      <td>Brazil</td>\n",
       "      <td>https://cdn.sofifa.org/flags/54.png</td>\n",
       "      <td>92</td>\n",
       "      <td>94</td>\n",
       "      <td>Paris Saint-Germain</td>\n",
       "      <td>https://cdn.sofifa.org/24/18/teams/73.png</td>\n",
       "      <td>123000000</td>\n",
       "      <td>280000</td>\n",
       "    </tr>\n",
       "    <tr>\n",
       "      <td>3</td>\n",
       "      <td>L. Suárez</td>\n",
       "      <td>30</td>\n",
       "      <td>https://cdn.sofifa.org/48/18/players/176580.png</td>\n",
       "      <td>Uruguay</td>\n",
       "      <td>https://cdn.sofifa.org/flags/60.png</td>\n",
       "      <td>92</td>\n",
       "      <td>92</td>\n",
       "      <td>FC Barcelona</td>\n",
       "      <td>https://cdn.sofifa.org/24/18/teams/241.png</td>\n",
       "      <td>97000000</td>\n",
       "      <td>510000</td>\n",
       "    </tr>\n",
       "    <tr>\n",
       "      <td>4</td>\n",
       "      <td>M. Neuer</td>\n",
       "      <td>31</td>\n",
       "      <td>https://cdn.sofifa.org/48/18/players/167495.png</td>\n",
       "      <td>Germany</td>\n",
       "      <td>https://cdn.sofifa.org/flags/21.png</td>\n",
       "      <td>92</td>\n",
       "      <td>92</td>\n",
       "      <td>FC Bayern Munich</td>\n",
       "      <td>https://cdn.sofifa.org/24/18/teams/21.png</td>\n",
       "      <td>61000000</td>\n",
       "      <td>230000</td>\n",
       "    </tr>\n",
       "  </tbody>\n",
       "</table>\n",
       "</div>"
      ],
      "text/plain": [
       "                Name  Age                                            Photo  \\\n",
       "0  Cristiano Ronaldo   32   https://cdn.sofifa.org/48/18/players/20801.png   \n",
       "1           L. Messi   30  https://cdn.sofifa.org/48/18/players/158023.png   \n",
       "2             Neymar   25  https://cdn.sofifa.org/48/18/players/190871.png   \n",
       "3          L. Suárez   30  https://cdn.sofifa.org/48/18/players/176580.png   \n",
       "4           M. Neuer   31  https://cdn.sofifa.org/48/18/players/167495.png   \n",
       "\n",
       "  Nationality                                 Flag  Overall  Potential  \\\n",
       "0    Portugal  https://cdn.sofifa.org/flags/38.png       94         94   \n",
       "1   Argentina  https://cdn.sofifa.org/flags/52.png       93         93   \n",
       "2      Brazil  https://cdn.sofifa.org/flags/54.png       92         94   \n",
       "3     Uruguay  https://cdn.sofifa.org/flags/60.png       92         92   \n",
       "4     Germany  https://cdn.sofifa.org/flags/21.png       92         92   \n",
       "\n",
       "                  Club                                   Club Logo      Value  \\\n",
       "0       Real Madrid CF  https://cdn.sofifa.org/24/18/teams/243.png  955000000   \n",
       "1         FC Barcelona  https://cdn.sofifa.org/24/18/teams/241.png  105000000   \n",
       "2  Paris Saint-Germain   https://cdn.sofifa.org/24/18/teams/73.png  123000000   \n",
       "3         FC Barcelona  https://cdn.sofifa.org/24/18/teams/241.png   97000000   \n",
       "4     FC Bayern Munich   https://cdn.sofifa.org/24/18/teams/21.png   61000000   \n",
       "\n",
       "     Wage  \n",
       "0  565000  \n",
       "1  565000  \n",
       "2  280000  \n",
       "3  510000  \n",
       "4  230000  "
      ]
     },
     "execution_count": 6,
     "metadata": {},
     "output_type": "execute_result"
    }
   ],
   "source": [
    "#Dataframe visualization\n",
    "fifa18_data.iloc[:5, :11]"
   ]
  },
  {
   "cell_type": "code",
   "execution_count": 7,
   "metadata": {},
   "outputs": [
    {
     "name": "stdout",
     "output_type": "stream",
     "text": [
      "(17981, 74)\n"
     ]
    }
   ],
   "source": [
    "#DataFrame size\n",
    "print(fifa18_data.shape)"
   ]
  },
  {
   "cell_type": "code",
   "execution_count": 8,
   "metadata": {},
   "outputs": [],
   "source": [
    "#DataBase creation\n",
    "conexion = sqlite3.connect('data_base.db')\n",
    "\n",
    "cur = conexion.cursor()\n",
    "\n",
    "cur.execute(\"CREATE TABLE IF NOT EXISTS fifa_2018(Name text, Age integer, Photo text, Nationality text, Flag text, Overall integer, Potential integer, Club text, Club_logo text, Value_EU integer,  Wage_EU integer, Special integer, Acceleration integer, Aggression integer, Agility integer, Balance integer, Ball_control integer, Composure integer, Crossing integer, Curve integer, Dribbling integer, Finishing integer, Free_kick_accuracy integer, GK_diving integer, GK_handling integer, GK_kicking integer, GK_positioning integer, GK_reflexes integer, Heading accuracy integer, Interceptions integer, Jumping integer, Long_passing integer, Long_shots integer, Marking integer, Penalties integer, Positioning integer, Reactions integer, Short_passing integer, Shot_power integer, Sliding_tackle integer, Sprint_speed integer, Stamina integer, Standing_tackle integer, Strength integer, Vision integer, Volleys integer, CAM integer, CB integer, CDM integer, CF integer, CM integer, ID integer, LAM integer, LB integer, LCB integer, LCM integer, LDM integer, LF integer, LM integer, LS integer, LW integer, LWB integer, Preferred_Positions text, RAM integer, RB integer, RCB integer, RCM integer, RDM integer, RF integer, RM integer, RS integer, RW integer, RWB integer, ST integer)\")\n",
    "\n",
    "conexion.commit()\n",
    "conexion.close()"
   ]
  },
  {
   "cell_type": "code",
   "execution_count": 9,
   "metadata": {},
   "outputs": [],
   "source": [
    "#Loading data into DataBase\n",
    "conexion = sqlite3.connect('data_base.db')\n",
    "\n",
    "cur = conexion.cursor()\n",
    " \n",
    "cur.executemany('''insert into fifa_2018 values (?, ?, ?, ?, ?, ?, ?, ?, ?, ?, ?, ?, ?, ?, ?, ?, ?, ?, ?, ?, ?, ?, ?, ?, ?, ?, ?, ?, ?, ?, ?, ?, ?, ?, ?, ?, ?, ?, ?, ?, ?, ?, ?, ?, ?, ?, ?, ?, ?, ?, ?, ?, ?, ?, ?, ?, ?, ?, ?, ?, ?, ?, ?, ?, ?, ?, ?, ?, ?, ?, ?, ?, ?, ?)''', fifa18_data.values.tolist())\n",
    "\n",
    "conexion.commit()\n",
    "conexion.close()"
   ]
  },
  {
   "cell_type": "code",
   "execution_count": 10,
   "metadata": {},
   "outputs": [
    {
     "name": "stdout",
     "output_type": "stream",
     "text": [
      "[('M. Storari',), ('B. Nivet',), ('T. Simons',), ('M. Candelo',), ('O. Pérez',), ('E. El Hadary',), ('Quim',), ('K. Wæhler',), ('L. Butrón',), ('M. Tyler',), ('M. Brown',), ('C. Day',), ('W. Brown',), ('D. Coyne',), ('J. Walker',), ('B. Richardson',), ('M. Storari',), ('B. Nivet',), ('T. Simons',), ('M. Candelo',), ('O. Pérez',), ('E. El Hadary',), ('Quim',), ('K. Wæhler',), ('L. Butrón',), ('M. Tyler',), ('M. Brown',), ('C. Day',), ('W. Brown',), ('D. Coyne',), ('J. Walker',), ('B. Richardson',), ('M. Storari',), ('B. Nivet',), ('T. Simons',), ('M. Candelo',), ('O. Pérez',), ('E. El Hadary',), ('Quim',), ('K. Wæhler',), ('L. Butrón',), ('M. Tyler',), ('M. Brown',), ('C. Day',), ('W. Brown',), ('D. Coyne',), ('J. Walker',), ('B. Richardson',), ('M. Storari',), ('B. Nivet',), ('T. Simons',), ('M. Candelo',), ('O. Pérez',), ('E. El Hadary',), ('Quim',), ('K. Wæhler',), ('L. Butrón',), ('M. Tyler',), ('M. Brown',), ('C. Day',), ('W. Brown',), ('D. Coyne',), ('J. Walker',), ('B. Richardson',), ('M. Storari',), ('B. Nivet',), ('T. Simons',), ('M. Candelo',), ('O. Pérez',), ('E. El Hadary',), ('Quim',), ('K. Wæhler',), ('L. Butrón',), ('M. Tyler',), ('M. Brown',), ('C. Day',), ('W. Brown',), ('D. Coyne',), ('J. Walker',), ('B. Richardson',), ('M. Storari',), ('B. Nivet',), ('T. Simons',), ('M. Candelo',), ('O. Pérez',), ('E. El Hadary',), ('Quim',), ('K. Wæhler',), ('L. Butrón',), ('M. Tyler',), ('M. Brown',), ('C. Day',), ('W. Brown',), ('D. Coyne',), ('J. Walker',), ('B. Richardson',), ('M. Storari',), ('B. Nivet',), ('T. Simons',), ('M. Candelo',), ('O. Pérez',), ('E. El Hadary',), ('Quim',), ('K. Wæhler',), ('L. Butrón',), ('M. Tyler',), ('M. Brown',), ('C. Day',), ('W. Brown',), ('D. Coyne',), ('J. Walker',), ('B. Richardson',), ('M. Storari',), ('B. Nivet',), ('T. Simons',), ('M. Candelo',), ('O. Pérez',), ('E. El Hadary',), ('Quim',), ('K. Wæhler',), ('L. Butrón',), ('M. Tyler',), ('M. Brown',), ('C. Day',), ('W. Brown',), ('D. Coyne',), ('J. Walker',), ('B. Richardson',)]\n"
     ]
    }
   ],
   "source": [
    "#Realizing connection tests with database using a query\n",
    "conexion = sqlite3.connect('data_base.db')\n",
    "\n",
    "cur = conexion.cursor()\n",
    "\n",
    "respuesta = cur.execute('SELECT Name FROM fifa_2018 WHERE Age >= 40')\n",
    "\n",
    "print(respuesta.fetchall())\n",
    "\n",
    "conexion.commit()\n",
    "conexion.close()"
   ]
  },
  {
   "cell_type": "markdown",
   "metadata": {},
   "source": [
    "In the previous query it is possible to see the players with ages superior to **40 year old**. The query shows that the database is working."
   ]
  },
  {
   "cell_type": "markdown",
   "metadata": {},
   "source": [
    "## Exploratory Data Analysis"
   ]
  },
  {
   "cell_type": "markdown",
   "metadata": {},
   "source": [
    "In this section the principal objective it is to do an Exploratory data analysis of the FIFA 2018 Player dataset that; the main analysis will be the ```different languages of the players speak```."
   ]
  },
  {
   "cell_type": "code",
   "execution_count": 11,
   "metadata": {},
   "outputs": [
    {
     "name": "stdout",
     "output_type": "stream",
     "text": [
      "The complete data set consist of 17981 players grouped into 165 nationalities\n"
     ]
    }
   ],
   "source": [
    "no_players = fifa18_data.shape[0]\n",
    "nationality = fifa18_data.groupby('Nationality')['ID'].count().size\n",
    "\n",
    "print('The complete data set consist of', no_players, 'players grouped into', nationality, 'nationalities')"
   ]
  },
  {
   "cell_type": "code",
   "execution_count": 12,
   "metadata": {},
   "outputs": [
    {
     "data": {
      "text/plain": [
       "Nationality\n",
       "England                1630\n",
       "Germany                1140\n",
       "Spain                  1019\n",
       "France                  978\n",
       "Argentina               965\n",
       "Brazil                  812\n",
       "Italy                   799\n",
       "Colombia                592\n",
       "Japan                   469\n",
       "Netherlands             429\n",
       "Republic of Ireland     417\n",
       "United States           381\n",
       "Chile                   375\n",
       "Sweden                  368\n",
       "Portugal                367\n",
       "Mexico                  360\n",
       "Denmark                 346\n",
       "Poland                  337\n",
       "Norway                  333\n",
       "Korea Republic          330\n",
       "Saudi Arabia            329\n",
       "Russia                  306\n",
       "Scotland                300\n",
       "Turkey                  291\n",
       "Belgium                 272\n",
       "Austria                 266\n",
       "Switzerland             233\n",
       "Australia               227\n",
       "Uruguay                 153\n",
       "Serbia                  133\n",
       "Name: ID, dtype: int64"
      ]
     },
     "execution_count": 12,
     "metadata": {},
     "output_type": "execute_result"
    }
   ],
   "source": [
    "nationality_list = fifa18_data.groupby('Nationality')['ID'].count().sort_values(ascending=False)\n",
    "nationality_list[:30]"
   ]
  },
  {
   "cell_type": "markdown",
   "metadata": {},
   "source": [
    "In the previous list it is possible to see that the information is not enough because, the nationality does not create language groups. For example, ```Argentina, Colombia, Chile, Uruguay, and Paraguay``` speak Spanish with some variation according to the region, but the *official language is Spanish*. This case applies too for English speaking people. So, for creating a better analysis will be necessary to create a new array with official language for every nationality. \n",
    "\n",
    "Using the information available in [Countries and their spoken languages - for developers](http://www.fullstacks.io/2016/07/countries-and-their-spoken-languages.html). I downloaded the CSV file and I updated the empty cells using information about official languages from [Wikipedia](https://en.wikipedia.org/) and [Wordatlas](https://www.worldatlas.com/)  "
   ]
  },
  {
   "cell_type": "code",
   "execution_count": 13,
   "metadata": {},
   "outputs": [
    {
     "data": {
      "text/html": [
       "<div>\n",
       "<style scoped>\n",
       "    .dataframe tbody tr th:only-of-type {\n",
       "        vertical-align: middle;\n",
       "    }\n",
       "\n",
       "    .dataframe tbody tr th {\n",
       "        vertical-align: top;\n",
       "    }\n",
       "\n",
       "    .dataframe thead th {\n",
       "        text-align: right;\n",
       "    }\n",
       "</style>\n",
       "<table border=\"1\" class=\"dataframe\">\n",
       "  <thead>\n",
       "    <tr style=\"text-align: right;\">\n",
       "      <th></th>\n",
       "      <th>ID</th>\n",
       "      <th>country_name</th>\n",
       "      <th>country_code_name</th>\n",
       "      <th>country_code</th>\n",
       "      <th>lang_name</th>\n",
       "    </tr>\n",
       "  </thead>\n",
       "  <tbody>\n",
       "    <tr>\n",
       "      <td>0</td>\n",
       "      <td>1</td>\n",
       "      <td>Afghanistan</td>\n",
       "      <td>af</td>\n",
       "      <td>93</td>\n",
       "      <td>Pashto</td>\n",
       "    </tr>\n",
       "    <tr>\n",
       "      <td>1</td>\n",
       "      <td>2</td>\n",
       "      <td>Albania</td>\n",
       "      <td>al</td>\n",
       "      <td>355</td>\n",
       "      <td>Albanian</td>\n",
       "    </tr>\n",
       "    <tr>\n",
       "      <td>2</td>\n",
       "      <td>3</td>\n",
       "      <td>Algeria</td>\n",
       "      <td>dz</td>\n",
       "      <td>213</td>\n",
       "      <td>Tamazight(Latin)</td>\n",
       "    </tr>\n",
       "    <tr>\n",
       "      <td>3</td>\n",
       "      <td>4</td>\n",
       "      <td>American Samoa</td>\n",
       "      <td>as</td>\n",
       "      <td>1684</td>\n",
       "      <td>English</td>\n",
       "    </tr>\n",
       "    <tr>\n",
       "      <td>4</td>\n",
       "      <td>5</td>\n",
       "      <td>Andorra</td>\n",
       "      <td>ad</td>\n",
       "      <td>376</td>\n",
       "      <td>Catalan</td>\n",
       "    </tr>\n",
       "  </tbody>\n",
       "</table>\n",
       "</div>"
      ],
      "text/plain": [
       "   ID    country_name country_code_name country_code         lang_name\n",
       "0   1     Afghanistan                af           93            Pashto\n",
       "1   2         Albania                al          355          Albanian\n",
       "2   3         Algeria                dz          213  Tamazight(Latin)\n",
       "3   4  American Samoa                as         1684           English\n",
       "4   5         Andorra                ad          376           Catalan"
      ]
     },
     "execution_count": 13,
     "metadata": {},
     "output_type": "execute_result"
    }
   ],
   "source": [
    "#Loadind language list by country\n",
    "language = pd.read_csv('country_list.csv')\n",
    "language[:5]"
   ]
  },
  {
   "cell_type": "code",
   "execution_count": 14,
   "metadata": {},
   "outputs": [
    {
     "data": {
      "text/plain": [
       "lang_name\n",
       "English                         54\n",
       "French                          25\n",
       "Spanish                         21\n",
       "Arabic                          17\n",
       "Portuguese                       8\n",
       "Serbian (Latin)                  3\n",
       "German                           3\n",
       "Chinese (Traditional) legacy     3\n",
       "Albanian                         2\n",
       "Dutch                            2\n",
       "Name: ID, dtype: int64"
      ]
     },
     "execution_count": 14,
     "metadata": {},
     "output_type": "execute_result"
    }
   ],
   "source": [
    "#The list shows the language more used by country\n",
    "language_list = language.groupby('lang_name')['ID'].count().sort_values(ascending=False)\n",
    "language_list[:10]"
   ]
  },
  {
   "cell_type": "code",
   "execution_count": 15,
   "metadata": {},
   "outputs": [],
   "source": [
    "#Adapting the data\n",
    "player_country = list(fifa18_data['Nationality'])\n",
    "player_country = [element.upper() for element in player_country]\n",
    "\n",
    "language_2 = language[['country_name','lang_name']]\n",
    "language_2 = language_2.apply(lambda x: x.astype(str).str.upper())"
   ]
  },
  {
   "cell_type": "code",
   "execution_count": 16,
   "metadata": {},
   "outputs": [],
   "source": [
    "#Code for to search match between player nationality and language\n",
    "language_match = []\n",
    "\n",
    "for i in player_country:\n",
    "    for j,k in zip(language_2['country_name'], language_2['lang_name']):\n",
    "        if i==j:\n",
    "            language_match.append(k)"
   ]
  },
  {
   "cell_type": "code",
   "execution_count": 17,
   "metadata": {},
   "outputs": [
    {
     "data": {
      "text/plain": [
       "['PORTUGUESE', 'SPANISH', 'PORTUGUESE', 'SPANISH', 'GERMAN']"
      ]
     },
     "execution_count": 17,
     "metadata": {},
     "output_type": "execute_result"
    }
   ],
   "source": [
    "#Playes languages (sample list)\n",
    "language_match[:5]"
   ]
  },
  {
   "cell_type": "code",
   "execution_count": 18,
   "metadata": {},
   "outputs": [
    {
     "data": {
      "text/html": [
       "<div>\n",
       "<style scoped>\n",
       "    .dataframe tbody tr th:only-of-type {\n",
       "        vertical-align: middle;\n",
       "    }\n",
       "\n",
       "    .dataframe tbody tr th {\n",
       "        vertical-align: top;\n",
       "    }\n",
       "\n",
       "    .dataframe thead th {\n",
       "        text-align: right;\n",
       "    }\n",
       "</style>\n",
       "<table border=\"1\" class=\"dataframe\">\n",
       "  <thead>\n",
       "    <tr style=\"text-align: right;\">\n",
       "      <th></th>\n",
       "      <th>Name</th>\n",
       "      <th>Country</th>\n",
       "      <th>Language</th>\n",
       "    </tr>\n",
       "  </thead>\n",
       "  <tbody>\n",
       "    <tr>\n",
       "      <td>0</td>\n",
       "      <td>Cristiano Ronaldo</td>\n",
       "      <td>PORTUGAL</td>\n",
       "      <td>PORTUGUESE</td>\n",
       "    </tr>\n",
       "    <tr>\n",
       "      <td>1</td>\n",
       "      <td>L. Messi</td>\n",
       "      <td>ARGENTINA</td>\n",
       "      <td>SPANISH</td>\n",
       "    </tr>\n",
       "    <tr>\n",
       "      <td>2</td>\n",
       "      <td>Neymar</td>\n",
       "      <td>BRAZIL</td>\n",
       "      <td>PORTUGUESE</td>\n",
       "    </tr>\n",
       "    <tr>\n",
       "      <td>3</td>\n",
       "      <td>L. Suárez</td>\n",
       "      <td>URUGUAY</td>\n",
       "      <td>SPANISH</td>\n",
       "    </tr>\n",
       "    <tr>\n",
       "      <td>4</td>\n",
       "      <td>M. Neuer</td>\n",
       "      <td>GERMANY</td>\n",
       "      <td>GERMAN</td>\n",
       "    </tr>\n",
       "  </tbody>\n",
       "</table>\n",
       "</div>"
      ],
      "text/plain": [
       "                Name    Country    Language\n",
       "0  Cristiano Ronaldo   PORTUGAL  PORTUGUESE\n",
       "1           L. Messi  ARGENTINA     SPANISH\n",
       "2             Neymar     BRAZIL  PORTUGUESE\n",
       "3          L. Suárez    URUGUAY     SPANISH\n",
       "4           M. Neuer    GERMANY      GERMAN"
      ]
     },
     "execution_count": 18,
     "metadata": {},
     "output_type": "execute_result"
    }
   ],
   "source": [
    "#New DataFrame for Football Players\n",
    "player_name = fifa18_data['Name']\n",
    "players_lang = pd.DataFrame(list(zip(player_name, player_country, language_match)), \n",
    "               columns =['Name', 'Country', 'Language'])\n",
    "players_lang.head()"
   ]
  },
  {
   "cell_type": "code",
   "execution_count": 19,
   "metadata": {},
   "outputs": [],
   "source": [
    "#Saving the Football Players languages file as CSV\n",
    "players_lang.to_csv('Player_Languages.csv')"
   ]
  },
  {
   "cell_type": "code",
   "execution_count": 20,
   "metadata": {},
   "outputs": [
    {
     "data": {
      "text/plain": [
       "[('SPANISH', 3755),\n",
       " ('ENGLISH', 2989),\n",
       " ('GERMAN', 1409),\n",
       " ('PORTUGUESE', 1236),\n",
       " ('OCCITAN', 978),\n",
       " ('ITALIAN', 799),\n",
       " ('FRENCH', 683),\n",
       " ('ARABIC', 503),\n",
       " ('JAPANESE', 469),\n",
       " ('SWEDISH', 430),\n",
       " ('FRISIAN', 429),\n",
       " ('IRISH', 417),\n",
       " ('DANISH', 346),\n",
       " ('POLISH', 337),\n",
       " ('KOREAN', 336),\n",
       " ('SAMI (SOUTHERN)', 333),\n",
       " ('YAKUT', 306),\n",
       " ('TURKISH', 291),\n",
       " ('ROMANSH', 233),\n",
       " ('SERBIAN (LATIN)', 213),\n",
       " ('WOLOF', 129),\n",
       " ('YORUBA', 126),\n",
       " ('CROATIAN', 109),\n",
       " ('GREEK', 109),\n",
       " ('SETSWANA', 77)]"
      ]
     },
     "execution_count": 20,
     "metadata": {},
     "output_type": "execute_result"
    }
   ],
   "source": [
    "#Table that show how many futbol player have a common languages\n",
    "counting_lang = Counter(language_match)\n",
    "lang_sorted = sorted(counting_lang.items(), key=lambda pair: pair[1], reverse=True)\n",
    "lang_sorted[:25]"
   ]
  },
  {
   "cell_type": "markdown",
   "metadata": {},
   "source": [
    "# Working with JSON Files"
   ]
  },
  {
   "cell_type": "markdown",
   "metadata": {},
   "source": [
    "The ```JSON``` file present several problems when this one is downloaded from the GitHub web page, because the file downloaded is not a ```JSON``` file; by the contrary the file has information about GitHub user, avatar, download day and another. So, the best way to get the right information was to open the direct link in Chrome navigator. Then I copy the text information and I did paste it into a ```Google JSON Editor``` application. After, I downloaded the file fixed. "
   ]
  },
  {
   "cell_type": "code",
   "execution_count": 21,
   "metadata": {},
   "outputs": [
    {
     "name": "stdout",
     "output_type": "stream",
     "text": [
      "{'name': 'Andorra', 'native': 'Andorra', 'phone': '376', 'continent': 'EU', 'capital': 'Andorra la Vella', 'currency': 'EUR', 'languages': ['ca']}\n"
     ]
    }
   ],
   "source": [
    "#Importing Countries data from JSON file\n",
    "\n",
    "with open('countries_validated.json') as json_count:\n",
    "    data_count = json.load(json_count)  \n",
    "\n",
    "print(data_count['AD'])"
   ]
  },
  {
   "cell_type": "code",
   "execution_count": 22,
   "metadata": {},
   "outputs": [],
   "source": [
    "#Antarctica doesn't have language define, so this data have to be deleted\n",
    "del data_count['AQ']"
   ]
  },
  {
   "cell_type": "code",
   "execution_count": 23,
   "metadata": {},
   "outputs": [
    {
     "data": {
      "text/html": [
       "<div>\n",
       "<style scoped>\n",
       "    .dataframe tbody tr th:only-of-type {\n",
       "        vertical-align: middle;\n",
       "    }\n",
       "\n",
       "    .dataframe tbody tr th {\n",
       "        vertical-align: top;\n",
       "    }\n",
       "\n",
       "    .dataframe thead th {\n",
       "        text-align: right;\n",
       "    }\n",
       "</style>\n",
       "<table border=\"1\" class=\"dataframe\">\n",
       "  <thead>\n",
       "    <tr style=\"text-align: right;\">\n",
       "      <th></th>\n",
       "      <th>name</th>\n",
       "      <th>native</th>\n",
       "      <th>phone</th>\n",
       "      <th>continent</th>\n",
       "      <th>capital</th>\n",
       "      <th>currency</th>\n",
       "      <th>languages</th>\n",
       "    </tr>\n",
       "  </thead>\n",
       "  <tbody>\n",
       "    <tr>\n",
       "      <td>AD</td>\n",
       "      <td>Andorra</td>\n",
       "      <td>Andorra</td>\n",
       "      <td>376</td>\n",
       "      <td>EU</td>\n",
       "      <td>Andorra la Vella</td>\n",
       "      <td>EUR</td>\n",
       "      <td>[ca]</td>\n",
       "    </tr>\n",
       "    <tr>\n",
       "      <td>AE</td>\n",
       "      <td>United Arab Emirates</td>\n",
       "      <td>دولة الإمارات العربية المتحدة</td>\n",
       "      <td>971</td>\n",
       "      <td>AS</td>\n",
       "      <td>Abu Dhabi</td>\n",
       "      <td>AED</td>\n",
       "      <td>[ar]</td>\n",
       "    </tr>\n",
       "    <tr>\n",
       "      <td>AF</td>\n",
       "      <td>Afghanistan</td>\n",
       "      <td>افغانستان</td>\n",
       "      <td>93</td>\n",
       "      <td>AS</td>\n",
       "      <td>Kabul</td>\n",
       "      <td>AFN</td>\n",
       "      <td>[ps, uz, tk]</td>\n",
       "    </tr>\n",
       "    <tr>\n",
       "      <td>AG</td>\n",
       "      <td>Antigua and Barbuda</td>\n",
       "      <td>Antigua and Barbuda</td>\n",
       "      <td>1268</td>\n",
       "      <td>NA</td>\n",
       "      <td>Saint John's</td>\n",
       "      <td>XCD</td>\n",
       "      <td>[en]</td>\n",
       "    </tr>\n",
       "    <tr>\n",
       "      <td>AI</td>\n",
       "      <td>Anguilla</td>\n",
       "      <td>Anguilla</td>\n",
       "      <td>1264</td>\n",
       "      <td>NA</td>\n",
       "      <td>The Valley</td>\n",
       "      <td>XCD</td>\n",
       "      <td>[en]</td>\n",
       "    </tr>\n",
       "  </tbody>\n",
       "</table>\n",
       "</div>"
      ],
      "text/plain": [
       "                    name                         native phone continent  \\\n",
       "AD               Andorra                        Andorra   376        EU   \n",
       "AE  United Arab Emirates  دولة الإمارات العربية المتحدة   971        AS   \n",
       "AF           Afghanistan                      افغانستان    93        AS   \n",
       "AG   Antigua and Barbuda            Antigua and Barbuda  1268        NA   \n",
       "AI              Anguilla                       Anguilla  1264        NA   \n",
       "\n",
       "             capital currency     languages  \n",
       "AD  Andorra la Vella      EUR          [ca]  \n",
       "AE         Abu Dhabi      AED          [ar]  \n",
       "AF             Kabul      AFN  [ps, uz, tk]  \n",
       "AG      Saint John's      XCD          [en]  \n",
       "AI        The Valley      XCD          [en]  "
      ]
     },
     "execution_count": 23,
     "metadata": {},
     "output_type": "execute_result"
    }
   ],
   "source": [
    "#Tranforming the Countries dictionary in a dataframe\n",
    "countries_df = pd.DataFrame.from_dict(data_count, orient='index')\n",
    "countries_df[:5]"
   ]
  },
  {
   "cell_type": "code",
   "execution_count": 24,
   "metadata": {},
   "outputs": [
    {
     "name": "stdout",
     "output_type": "stream",
     "text": [
      "{'name': 'Catalan', 'native': 'Català'}\n"
     ]
    }
   ],
   "source": [
    "#Importing Languaje data from JSON file\n",
    "\n",
    "with open('languages_validated.json') as json_data:\n",
    "    data_lang = json.load(json_data)  \n",
    "\n",
    "print(data_lang['ca'])"
   ]
  },
  {
   "cell_type": "code",
   "execution_count": 25,
   "metadata": {},
   "outputs": [
    {
     "data": {
      "text/html": [
       "<div>\n",
       "<style scoped>\n",
       "    .dataframe tbody tr th:only-of-type {\n",
       "        vertical-align: middle;\n",
       "    }\n",
       "\n",
       "    .dataframe tbody tr th {\n",
       "        vertical-align: top;\n",
       "    }\n",
       "\n",
       "    .dataframe thead th {\n",
       "        text-align: right;\n",
       "    }\n",
       "</style>\n",
       "<table border=\"1\" class=\"dataframe\">\n",
       "  <thead>\n",
       "    <tr style=\"text-align: right;\">\n",
       "      <th></th>\n",
       "      <th>name</th>\n",
       "      <th>native</th>\n",
       "      <th>rtl</th>\n",
       "    </tr>\n",
       "  </thead>\n",
       "  <tbody>\n",
       "    <tr>\n",
       "      <td>aa</td>\n",
       "      <td>Afar</td>\n",
       "      <td>Afar</td>\n",
       "      <td>NaN</td>\n",
       "    </tr>\n",
       "    <tr>\n",
       "      <td>ab</td>\n",
       "      <td>Abkhazian</td>\n",
       "      <td>Аҧсуа</td>\n",
       "      <td>NaN</td>\n",
       "    </tr>\n",
       "    <tr>\n",
       "      <td>af</td>\n",
       "      <td>Afrikaans</td>\n",
       "      <td>Afrikaans</td>\n",
       "      <td>NaN</td>\n",
       "    </tr>\n",
       "    <tr>\n",
       "      <td>ak</td>\n",
       "      <td>Akan</td>\n",
       "      <td>Akana</td>\n",
       "      <td>NaN</td>\n",
       "    </tr>\n",
       "    <tr>\n",
       "      <td>am</td>\n",
       "      <td>Amharic</td>\n",
       "      <td>አማርኛ</td>\n",
       "      <td>NaN</td>\n",
       "    </tr>\n",
       "  </tbody>\n",
       "</table>\n",
       "</div>"
      ],
      "text/plain": [
       "         name     native  rtl\n",
       "aa       Afar       Afar  NaN\n",
       "ab  Abkhazian      Аҧсуа  NaN\n",
       "af  Afrikaans  Afrikaans  NaN\n",
       "ak       Akan      Akana  NaN\n",
       "am    Amharic       አማርኛ  NaN"
      ]
     },
     "execution_count": 25,
     "metadata": {},
     "output_type": "execute_result"
    }
   ],
   "source": [
    "#Tranforming the language dictionary in a dataframe\n",
    "languages_df = pd.DataFrame.from_dict(data_lang, orient='index')\n",
    "languages_df[:5]"
   ]
  },
  {
   "cell_type": "code",
   "execution_count": 26,
   "metadata": {},
   "outputs": [
    {
     "data": {
      "text/plain": [
       "['Andorra',\n",
       " 'United Arab Emirates',\n",
       " 'Afghanistan',\n",
       " 'Antigua and Barbuda',\n",
       " 'Anguilla']"
      ]
     },
     "execution_count": 26,
     "metadata": {},
     "output_type": "execute_result"
    }
   ],
   "source": [
    "#Creating a new list with countries name \n",
    "country_list =  list(countries_df['name'])\n",
    "country_list[:5]"
   ]
  },
  {
   "cell_type": "code",
   "execution_count": 27,
   "metadata": {},
   "outputs": [
    {
     "data": {
      "text/plain": [
       "['Afar', 'Abkhazian', 'Afrikaans', 'Akan', 'Amharic']"
      ]
     },
     "execution_count": 27,
     "metadata": {},
     "output_type": "execute_result"
    }
   ],
   "source": [
    "#Creating a new list with languages\n",
    "languages_list = list(languages_df['name'])\n",
    "languages_list[:5]"
   ]
  },
  {
   "cell_type": "code",
   "execution_count": 28,
   "metadata": {},
   "outputs": [
    {
     "data": {
      "text/plain": [
       "[['ca'], ['ar'], ['ps', 'uz', 'tk'], ['en'], ['en']]"
      ]
     },
     "execution_count": 28,
     "metadata": {},
     "output_type": "execute_result"
    }
   ],
   "source": [
    "#Creating new list with countries languages\n",
    "country_lang =  list(countries_df.iloc[:,6])\n",
    "country_lang[:5]"
   ]
  },
  {
   "cell_type": "code",
   "execution_count": 29,
   "metadata": {},
   "outputs": [],
   "source": [
    "#Create a new list with the firt element in every row\n",
    "country_lang = filter(None, country_lang) #Remove empty row for Antartida\n",
    "\n",
    "new_list = []\n",
    "for value in country_lang:\n",
    "    new_list.append(value[0])"
   ]
  },
  {
   "cell_type": "code",
   "execution_count": 30,
   "metadata": {},
   "outputs": [
    {
     "data": {
      "text/plain": [
       "['ca', 'ar', 'ps', 'en', 'en']"
      ]
     },
     "execution_count": 30,
     "metadata": {},
     "output_type": "execute_result"
    }
   ],
   "source": [
    "new_list[:5]"
   ]
  },
  {
   "cell_type": "code",
   "execution_count": 31,
   "metadata": {},
   "outputs": [
    {
     "data": {
      "text/plain": [
       "['aa', 'ab', 'af', 'ak', 'am']"
      ]
     },
     "execution_count": 31,
     "metadata": {},
     "output_type": "execute_result"
    }
   ],
   "source": [
    "#Extracting index from the list\n",
    "aux_list = languages_df.iloc[:, [0]]\n",
    "aux_list = aux_list.index.tolist()\n",
    "aux_list[:5]"
   ]
  },
  {
   "cell_type": "code",
   "execution_count": 32,
   "metadata": {},
   "outputs": [],
   "source": [
    "#Searching match between country languages code from countries and languages data\n",
    "language_match2 = []\n",
    "\n",
    "for i in new_list:\n",
    "    for j,k in zip(aux_list, languages_list):\n",
    "        if i==j:\n",
    "            language_match2.append(k)"
   ]
  },
  {
   "cell_type": "code",
   "execution_count": 33,
   "metadata": {},
   "outputs": [
    {
     "data": {
      "text/plain": [
       "['Catalan', 'Arabic', 'Pashto', 'English', 'English']"
      ]
     },
     "execution_count": 33,
     "metadata": {},
     "output_type": "execute_result"
    }
   ],
   "source": [
    "language_match2[:5]"
   ]
  },
  {
   "cell_type": "code",
   "execution_count": 34,
   "metadata": {},
   "outputs": [
    {
     "data": {
      "text/html": [
       "<div>\n",
       "<style scoped>\n",
       "    .dataframe tbody tr th:only-of-type {\n",
       "        vertical-align: middle;\n",
       "    }\n",
       "\n",
       "    .dataframe tbody tr th {\n",
       "        vertical-align: top;\n",
       "    }\n",
       "\n",
       "    .dataframe thead th {\n",
       "        text-align: right;\n",
       "    }\n",
       "</style>\n",
       "<table border=\"1\" class=\"dataframe\">\n",
       "  <thead>\n",
       "    <tr style=\"text-align: right;\">\n",
       "      <th></th>\n",
       "      <th>Country</th>\n",
       "      <th>Language</th>\n",
       "    </tr>\n",
       "  </thead>\n",
       "  <tbody>\n",
       "    <tr>\n",
       "      <td>0</td>\n",
       "      <td>Andorra</td>\n",
       "      <td>Catalan</td>\n",
       "    </tr>\n",
       "    <tr>\n",
       "      <td>1</td>\n",
       "      <td>United Arab Emirates</td>\n",
       "      <td>Arabic</td>\n",
       "    </tr>\n",
       "    <tr>\n",
       "      <td>2</td>\n",
       "      <td>Afghanistan</td>\n",
       "      <td>Pashto</td>\n",
       "    </tr>\n",
       "    <tr>\n",
       "      <td>3</td>\n",
       "      <td>Antigua and Barbuda</td>\n",
       "      <td>English</td>\n",
       "    </tr>\n",
       "    <tr>\n",
       "      <td>4</td>\n",
       "      <td>Anguilla</td>\n",
       "      <td>English</td>\n",
       "    </tr>\n",
       "  </tbody>\n",
       "</table>\n",
       "</div>"
      ],
      "text/plain": [
       "                Country Language\n",
       "0               Andorra  Catalan\n",
       "1  United Arab Emirates   Arabic\n",
       "2           Afghanistan   Pashto\n",
       "3   Antigua and Barbuda  English\n",
       "4              Anguilla  English"
      ]
     },
     "execution_count": 34,
     "metadata": {},
     "output_type": "execute_result"
    }
   ],
   "source": [
    "#New DataFrame with information about countries and country's language \n",
    "New_df = pd.DataFrame(list(zip(country_list, language_match2)), \n",
    "               columns =['Country', 'Language'])\n",
    "New_df[:5] "
   ]
  },
  {
   "cell_type": "code",
   "execution_count": 35,
   "metadata": {},
   "outputs": [],
   "source": [
    "#Saving the file as CSV\n",
    "New_df.to_csv('Countries_Languages.csv')"
   ]
  },
  {
   "cell_type": "markdown",
   "metadata": {},
   "source": [
    "## Objective 2"
   ]
  },
  {
   "cell_type": "markdown",
   "metadata": {},
   "source": [
    "In this section it is necessary to build a Data Visualization of the data FIFA game by country and languages. Clustering to help us for take the best decisions for Localization."
   ]
  },
  {
   "cell_type": "code",
   "execution_count": 36,
   "metadata": {},
   "outputs": [
    {
     "name": "stderr",
     "output_type": "stream",
     "text": [
      "/home/ronny/anaconda3/lib/python3.7/site-packages/ipykernel_launcher.py:3: FutureWarning: `Series.plot()` should not be called with positional arguments, only keyword arguments. The order of positional arguments will change in the future. Use `Series.plot(kind='bar')` instead of `Series.plot('bar',)`.\n",
      "  This is separate from the ipykernel package so we can avoid doing imports until\n"
     ]
    },
    {
     "data": {
      "image/png": "[encoded data removed]",
      "text/plain": [
       "<Figure size 1152x432 with 1 Axes>"
      ]
     },
     "metadata": {
      "needs_background": "light"
     },
     "output_type": "display_data"
    }
   ],
   "source": [
    "#Histogram for playes languages\n",
    "fig = plt.figure(figsize=(16,6))\n",
    "pd.Series(language_match).value_counts().plot('bar')\n",
    "plt.show()"
   ]
  },
  {
   "cell_type": "code",
   "execution_count": 37,
   "metadata": {},
   "outputs": [
    {
     "data": {
      "text/html": [
       "<div>\n",
       "<style scoped>\n",
       "    .dataframe tbody tr th:only-of-type {\n",
       "        vertical-align: middle;\n",
       "    }\n",
       "\n",
       "    .dataframe tbody tr th {\n",
       "        vertical-align: top;\n",
       "    }\n",
       "\n",
       "    .dataframe thead th {\n",
       "        text-align: right;\n",
       "    }\n",
       "</style>\n",
       "<table border=\"1\" class=\"dataframe\">\n",
       "  <thead>\n",
       "    <tr style=\"text-align: right;\">\n",
       "      <th></th>\n",
       "      <th>Name</th>\n",
       "      <th>Age</th>\n",
       "      <th>Club</th>\n",
       "    </tr>\n",
       "  </thead>\n",
       "  <tbody>\n",
       "    <tr>\n",
       "      <td>0</td>\n",
       "      <td>Cristiano Ronaldo</td>\n",
       "      <td>32</td>\n",
       "      <td>Real Madrid CF</td>\n",
       "    </tr>\n",
       "    <tr>\n",
       "      <td>1</td>\n",
       "      <td>L. Messi</td>\n",
       "      <td>30</td>\n",
       "      <td>FC Barcelona</td>\n",
       "    </tr>\n",
       "    <tr>\n",
       "      <td>2</td>\n",
       "      <td>Neymar</td>\n",
       "      <td>25</td>\n",
       "      <td>Paris Saint-Germain</td>\n",
       "    </tr>\n",
       "    <tr>\n",
       "      <td>3</td>\n",
       "      <td>L. Suárez</td>\n",
       "      <td>30</td>\n",
       "      <td>FC Barcelona</td>\n",
       "    </tr>\n",
       "    <tr>\n",
       "      <td>4</td>\n",
       "      <td>M. Neuer</td>\n",
       "      <td>31</td>\n",
       "      <td>FC Bayern Munich</td>\n",
       "    </tr>\n",
       "    <tr>\n",
       "      <td>5</td>\n",
       "      <td>R. Lewandowski</td>\n",
       "      <td>28</td>\n",
       "      <td>FC Bayern Munich</td>\n",
       "    </tr>\n",
       "    <tr>\n",
       "      <td>6</td>\n",
       "      <td>De Gea</td>\n",
       "      <td>26</td>\n",
       "      <td>Manchester United</td>\n",
       "    </tr>\n",
       "    <tr>\n",
       "      <td>7</td>\n",
       "      <td>E. Hazard</td>\n",
       "      <td>26</td>\n",
       "      <td>Chelsea</td>\n",
       "    </tr>\n",
       "    <tr>\n",
       "      <td>8</td>\n",
       "      <td>T. Kroos</td>\n",
       "      <td>27</td>\n",
       "      <td>Real Madrid CF</td>\n",
       "    </tr>\n",
       "    <tr>\n",
       "      <td>9</td>\n",
       "      <td>G. Higuaín</td>\n",
       "      <td>29</td>\n",
       "      <td>Juventus</td>\n",
       "    </tr>\n",
       "  </tbody>\n",
       "</table>\n",
       "</div>"
      ],
      "text/plain": [
       "                Name  Age                 Club\n",
       "0  Cristiano Ronaldo   32       Real Madrid CF\n",
       "1           L. Messi   30         FC Barcelona\n",
       "2             Neymar   25  Paris Saint-Germain\n",
       "3          L. Suárez   30         FC Barcelona\n",
       "4           M. Neuer   31     FC Bayern Munich\n",
       "5     R. Lewandowski   28     FC Bayern Munich\n",
       "6             De Gea   26    Manchester United\n",
       "7          E. Hazard   26              Chelsea\n",
       "8           T. Kroos   27       Real Madrid CF\n",
       "9         G. Higuaín   29             Juventus"
      ]
     },
     "execution_count": 37,
     "metadata": {},
     "output_type": "execute_result"
    }
   ],
   "source": [
    "#Grouping by player\n",
    "players = fifa18_data[[\"Name\", \"Age\", \"Club\"]]\n",
    "columnsRequired = [\"Name\", \"Age\", \"Club\"]\n",
    "players = fifa18_data[columnsRequired]\n",
    "players[:10]"
   ]
  },
  {
   "cell_type": "code",
   "execution_count": 38,
   "metadata": {},
   "outputs": [],
   "source": [
    "# Finding the average age of players in each team\n",
    "player_mean_age = players.groupby(\"Club\").mean()"
   ]
  },
  {
   "cell_type": "code",
   "execution_count": 39,
   "metadata": {},
   "outputs": [
    {
     "data": {
      "text/plain": [
       "(18, 32)"
      ]
     },
     "execution_count": 39,
     "metadata": {},
     "output_type": "execute_result"
    },
    {
     "data": {
      "image/png": "[encoded data removed]",
      "text/plain": [
       "<Figure size 1152x360 with 1 Axes>"
      ]
     },
     "metadata": {
      "needs_background": "light"
     },
     "output_type": "display_data"
    }
   ],
   "source": [
    "#Histogram for playes languages\n",
    "player_mean_age.hist(bins=100, grid=True, xlabelsize=12, ylabelsize=12, figsize=(16,5))\n",
    "plt.xlabel(\"Football Player Age\", fontsize=15)\n",
    "plt.ylabel(\"Frequency\",fontsize=15)\n",
    "plt.xlim([18,32])"
   ]
  },
  {
   "cell_type": "code",
   "execution_count": 40,
   "metadata": {},
   "outputs": [
    {
     "data": {
      "text/plain": [
       "Text(0.5, 0.98, \"Players'Nationality Histogram\")"
      ]
     },
     "execution_count": 40,
     "metadata": {},
     "output_type": "execute_result"
    },
    {
     "data": {
      "image/png": "[encoded data removed]",
      "text/plain": [
       "<Figure size 1152x360 with 1 Axes>"
      ]
     },
     "metadata": {
      "needs_background": "light"
     },
     "output_type": "display_data"
    }
   ],
   "source": [
    "#Review about nationality\n",
    "players = fifa18_data[[\"Name\", \"Age\", \"Club\", \"Nationality\"]].dropna()\n",
    "players.groupby(\"Nationality\").Name.count().sort_values(ascending=False).head(20).plot(kind=\"bar\", figsize=(16,5))\n",
    "pl.suptitle(\"Players'Nationality Histogram\",fontsize=15)"
   ]
  },
  {
   "cell_type": "code",
   "execution_count": 41,
   "metadata": {},
   "outputs": [
    {
     "data": {
      "text/plain": [
       "Text(0.5, 0.98, \"Players'Nationality Pie Chart with the most relevant 15 Nationalities\")"
      ]
     },
     "execution_count": 41,
     "metadata": {},
     "output_type": "execute_result"
    },
    {
     "data": {
      "image/png": "[encoded data removed]",
      "text/plain": [
       "<Figure size 720x720 with 1 Axes>"
      ]
     },
     "metadata": {},
     "output_type": "display_data"
    }
   ],
   "source": [
    "#Players'Nationality Pie Chart\n",
    "players.groupby(\"Nationality\").Name.count().sort_values(ascending=False).head(15).plot(kind=\"pie\", figsize=(10,10))\n",
    "pl.suptitle(\"Players'Nationality Pie Chart with the most relevant 15 Nationalities\",fontsize=15)"
   ]
  },
  {
   "cell_type": "code",
   "execution_count": 42,
   "metadata": {},
   "outputs": [
    {
     "data": {
      "text/html": [
       "<div>\n",
       "<style scoped>\n",
       "    .dataframe tbody tr th:only-of-type {\n",
       "        vertical-align: middle;\n",
       "    }\n",
       "\n",
       "    .dataframe tbody tr th {\n",
       "        vertical-align: top;\n",
       "    }\n",
       "\n",
       "    .dataframe thead th {\n",
       "        text-align: right;\n",
       "    }\n",
       "</style>\n",
       "<table border=\"1\" class=\"dataframe\">\n",
       "  <thead>\n",
       "    <tr style=\"text-align: right;\">\n",
       "      <th></th>\n",
       "      <th>Country</th>\n",
       "      <th>Language</th>\n",
       "    </tr>\n",
       "  </thead>\n",
       "  <tbody>\n",
       "    <tr>\n",
       "      <td>0</td>\n",
       "      <td>4</td>\n",
       "      <td>13</td>\n",
       "    </tr>\n",
       "    <tr>\n",
       "      <td>1</td>\n",
       "      <td>234</td>\n",
       "      <td>3</td>\n",
       "    </tr>\n",
       "    <tr>\n",
       "      <td>2</td>\n",
       "      <td>0</td>\n",
       "      <td>50</td>\n",
       "    </tr>\n",
       "    <tr>\n",
       "      <td>3</td>\n",
       "      <td>7</td>\n",
       "      <td>21</td>\n",
       "    </tr>\n",
       "    <tr>\n",
       "      <td>4</td>\n",
       "      <td>6</td>\n",
       "      <td>21</td>\n",
       "    </tr>\n",
       "  </tbody>\n",
       "</table>\n",
       "</div>"
      ],
      "text/plain": [
       "   Country  Language\n",
       "0        4        13\n",
       "1      234         3\n",
       "2        0        50\n",
       "3        7        21\n",
       "4        6        21"
      ]
     },
     "execution_count": 42,
     "metadata": {},
     "output_type": "execute_result"
    }
   ],
   "source": [
    "#Categorical data analysis for Country and Language JSON data\n",
    "lbl = LabelEncoder()\n",
    "\n",
    "data_cat = New_df.apply(lbl.fit_transform)\n",
    "data_cat[:5]"
   ]
  },
  {
   "cell_type": "code",
   "execution_count": 43,
   "metadata": {},
   "outputs": [
    {
     "data": {
      "text/html": [
       "<div>\n",
       "<style scoped>\n",
       "    .dataframe tbody tr th:only-of-type {\n",
       "        vertical-align: middle;\n",
       "    }\n",
       "\n",
       "    .dataframe tbody tr th {\n",
       "        vertical-align: top;\n",
       "    }\n",
       "\n",
       "    .dataframe thead th {\n",
       "        text-align: right;\n",
       "    }\n",
       "</style>\n",
       "<table border=\"1\" class=\"dataframe\">\n",
       "  <thead>\n",
       "    <tr style=\"text-align: right;\">\n",
       "      <th></th>\n",
       "      <th>cat_country</th>\n",
       "      <th>cat_language</th>\n",
       "      <th>Country</th>\n",
       "      <th>Language</th>\n",
       "    </tr>\n",
       "  </thead>\n",
       "  <tbody>\n",
       "    <tr>\n",
       "      <td>0</td>\n",
       "      <td>4</td>\n",
       "      <td>13</td>\n",
       "      <td>Andorra</td>\n",
       "      <td>Catalan</td>\n",
       "    </tr>\n",
       "    <tr>\n",
       "      <td>1</td>\n",
       "      <td>234</td>\n",
       "      <td>3</td>\n",
       "      <td>United Arab Emirates</td>\n",
       "      <td>Arabic</td>\n",
       "    </tr>\n",
       "    <tr>\n",
       "      <td>2</td>\n",
       "      <td>0</td>\n",
       "      <td>50</td>\n",
       "      <td>Afghanistan</td>\n",
       "      <td>Pashto</td>\n",
       "    </tr>\n",
       "    <tr>\n",
       "      <td>3</td>\n",
       "      <td>7</td>\n",
       "      <td>21</td>\n",
       "      <td>Antigua and Barbuda</td>\n",
       "      <td>English</td>\n",
       "    </tr>\n",
       "    <tr>\n",
       "      <td>4</td>\n",
       "      <td>6</td>\n",
       "      <td>21</td>\n",
       "      <td>Anguilla</td>\n",
       "      <td>English</td>\n",
       "    </tr>\n",
       "    <tr>\n",
       "      <td>5</td>\n",
       "      <td>1</td>\n",
       "      <td>1</td>\n",
       "      <td>Albania</td>\n",
       "      <td>Albanian</td>\n",
       "    </tr>\n",
       "    <tr>\n",
       "      <td>6</td>\n",
       "      <td>9</td>\n",
       "      <td>4</td>\n",
       "      <td>Armenia</td>\n",
       "      <td>Armenian</td>\n",
       "    </tr>\n",
       "    <tr>\n",
       "      <td>7</td>\n",
       "      <td>5</td>\n",
       "      <td>53</td>\n",
       "      <td>Angola</td>\n",
       "      <td>Portuguese</td>\n",
       "    </tr>\n",
       "    <tr>\n",
       "      <td>8</td>\n",
       "      <td>8</td>\n",
       "      <td>63</td>\n",
       "      <td>Argentina</td>\n",
       "      <td>Spanish</td>\n",
       "    </tr>\n",
       "    <tr>\n",
       "      <td>9</td>\n",
       "      <td>3</td>\n",
       "      <td>21</td>\n",
       "      <td>American Samoa</td>\n",
       "      <td>English</td>\n",
       "    </tr>\n",
       "  </tbody>\n",
       "</table>\n",
       "</div>"
      ],
      "text/plain": [
       "   cat_country  cat_language               Country    Language\n",
       "0            4            13               Andorra     Catalan\n",
       "1          234             3  United Arab Emirates      Arabic\n",
       "2            0            50           Afghanistan      Pashto\n",
       "3            7            21   Antigua and Barbuda     English\n",
       "4            6            21              Anguilla     English\n",
       "5            1             1               Albania    Albanian\n",
       "6            9             4               Armenia    Armenian\n",
       "7            5            53                Angola  Portuguese\n",
       "8            8            63             Argentina     Spanish\n",
       "9            3            21        American Samoa     English"
      ]
     },
     "execution_count": 43,
     "metadata": {},
     "output_type": "execute_result"
    }
   ],
   "source": [
    "#Integrated DataFrame between categorical and numerical data\n",
    "integrated_df = pd.DataFrame(list(zip(data_cat['Country'], data_cat['Language'], country_list, language_match2)), \n",
    "               columns =['cat_country', 'cat_language', 'Country', 'Language'])\n",
    "integrated_df[:10]"
   ]
  },
  {
   "cell_type": "code",
   "execution_count": 44,
   "metadata": {},
   "outputs": [
    {
     "name": "stderr",
     "output_type": "stream",
     "text": [
      "/home/ronny/anaconda3/lib/python3.7/site-packages/ipykernel_launcher.py:2: FutureWarning: `Series.plot()` should not be called with positional arguments, only keyword arguments. The order of positional arguments will change in the future. Use `Series.plot(kind='bar')` instead of `Series.plot('bar',)`.\n",
      "  \n"
     ]
    },
    {
     "data": {
      "image/png": "[encoded data removed]",
      "text/plain": [
       "<Figure size 1152x432 with 1 Axes>"
      ]
     },
     "metadata": {
      "needs_background": "light"
     },
     "output_type": "display_data"
    }
   ],
   "source": [
    "fig = plt.figure(figsize=(16,6))\n",
    "pd.Series(integrated_df['cat_language']).value_counts().plot('bar')\n",
    "plt.show()"
   ]
  },
  {
   "cell_type": "markdown",
   "metadata": {},
   "source": [
    "According to this result, the language speaks of the world is English, followed by French and Spanish. "
   ]
  },
  {
   "cell_type": "code",
   "execution_count": 45,
   "metadata": {},
   "outputs": [
    {
     "data": {
      "text/html": [
       "<div>\n",
       "<style scoped>\n",
       "    .dataframe tbody tr th:only-of-type {\n",
       "        vertical-align: middle;\n",
       "    }\n",
       "\n",
       "    .dataframe tbody tr th {\n",
       "        vertical-align: top;\n",
       "    }\n",
       "\n",
       "    .dataframe thead th {\n",
       "        text-align: right;\n",
       "    }\n",
       "</style>\n",
       "<table border=\"1\" class=\"dataframe\">\n",
       "  <thead>\n",
       "    <tr style=\"text-align: right;\">\n",
       "      <th></th>\n",
       "      <th>Country_cat</th>\n",
       "      <th>Language_cat</th>\n",
       "    </tr>\n",
       "  </thead>\n",
       "  <tbody>\n",
       "    <tr>\n",
       "      <td>0</td>\n",
       "      <td>121</td>\n",
       "      <td>47</td>\n",
       "    </tr>\n",
       "    <tr>\n",
       "      <td>1</td>\n",
       "      <td>5</td>\n",
       "      <td>57</td>\n",
       "    </tr>\n",
       "    <tr>\n",
       "      <td>2</td>\n",
       "      <td>18</td>\n",
       "      <td>47</td>\n",
       "    </tr>\n",
       "    <tr>\n",
       "      <td>3</td>\n",
       "      <td>158</td>\n",
       "      <td>57</td>\n",
       "    </tr>\n",
       "    <tr>\n",
       "      <td>4</td>\n",
       "      <td>58</td>\n",
       "      <td>20</td>\n",
       "    </tr>\n",
       "  </tbody>\n",
       "</table>\n",
       "</div>"
      ],
      "text/plain": [
       "   Country_cat  Language_cat\n",
       "0          121            47\n",
       "1            5            57\n",
       "2           18            47\n",
       "3          158            57\n",
       "4           58            20"
      ]
     },
     "execution_count": 45,
     "metadata": {},
     "output_type": "execute_result"
    }
   ],
   "source": [
    "#Making a similar analysis with Football players languages\n",
    "\n",
    "players_C_L = pd.DataFrame(list(zip(player_country, language_match)), \n",
    "               columns =['Country_cat', 'Language_cat'])\n",
    "\n",
    "lbl = LabelEncoder()\n",
    "\n",
    "players_CL_cat = players_C_L.apply(lbl.fit_transform)\n",
    "players_CL_cat.head()"
   ]
  },
  {
   "cell_type": "code",
   "execution_count": 46,
   "metadata": {},
   "outputs": [
    {
     "data": {
      "text/html": [
       "<div>\n",
       "<style scoped>\n",
       "    .dataframe tbody tr th:only-of-type {\n",
       "        vertical-align: middle;\n",
       "    }\n",
       "\n",
       "    .dataframe tbody tr th {\n",
       "        vertical-align: top;\n",
       "    }\n",
       "\n",
       "    .dataframe thead th {\n",
       "        text-align: right;\n",
       "    }\n",
       "</style>\n",
       "<table border=\"1\" class=\"dataframe\">\n",
       "  <thead>\n",
       "    <tr style=\"text-align: right;\">\n",
       "      <th></th>\n",
       "      <th>Country_cat</th>\n",
       "      <th>Language_cat</th>\n",
       "    </tr>\n",
       "  </thead>\n",
       "  <tbody>\n",
       "    <tr>\n",
       "      <td>0</td>\n",
       "      <td>PORTUGAL</td>\n",
       "      <td>PORTUGUESE</td>\n",
       "    </tr>\n",
       "    <tr>\n",
       "      <td>1</td>\n",
       "      <td>ARGENTINA</td>\n",
       "      <td>SPANISH</td>\n",
       "    </tr>\n",
       "    <tr>\n",
       "      <td>2</td>\n",
       "      <td>BRAZIL</td>\n",
       "      <td>PORTUGUESE</td>\n",
       "    </tr>\n",
       "    <tr>\n",
       "      <td>3</td>\n",
       "      <td>URUGUAY</td>\n",
       "      <td>SPANISH</td>\n",
       "    </tr>\n",
       "    <tr>\n",
       "      <td>4</td>\n",
       "      <td>GERMANY</td>\n",
       "      <td>GERMAN</td>\n",
       "    </tr>\n",
       "    <tr>\n",
       "      <td>5</td>\n",
       "      <td>POLAND</td>\n",
       "      <td>POLISH</td>\n",
       "    </tr>\n",
       "    <tr>\n",
       "      <td>6</td>\n",
       "      <td>SPAIN</td>\n",
       "      <td>SPANISH</td>\n",
       "    </tr>\n",
       "    <tr>\n",
       "      <td>7</td>\n",
       "      <td>BELGIUM</td>\n",
       "      <td>FRENCH</td>\n",
       "    </tr>\n",
       "    <tr>\n",
       "      <td>8</td>\n",
       "      <td>GERMANY</td>\n",
       "      <td>GERMAN</td>\n",
       "    </tr>\n",
       "    <tr>\n",
       "      <td>9</td>\n",
       "      <td>ARGENTINA</td>\n",
       "      <td>SPANISH</td>\n",
       "    </tr>\n",
       "    <tr>\n",
       "      <td>10</td>\n",
       "      <td>SPAIN</td>\n",
       "      <td>SPANISH</td>\n",
       "    </tr>\n",
       "    <tr>\n",
       "      <td>11</td>\n",
       "      <td>BELGIUM</td>\n",
       "      <td>FRENCH</td>\n",
       "    </tr>\n",
       "    <tr>\n",
       "      <td>12</td>\n",
       "      <td>BELGIUM</td>\n",
       "      <td>FRENCH</td>\n",
       "    </tr>\n",
       "    <tr>\n",
       "      <td>13</td>\n",
       "      <td>CHILE</td>\n",
       "      <td>SPANISH</td>\n",
       "    </tr>\n",
       "    <tr>\n",
       "      <td>14</td>\n",
       "      <td>CROATIA</td>\n",
       "      <td>CROATIAN</td>\n",
       "    </tr>\n",
       "  </tbody>\n",
       "</table>\n",
       "</div>"
      ],
      "text/plain": [
       "   Country_cat Language_cat\n",
       "0     PORTUGAL   PORTUGUESE\n",
       "1    ARGENTINA      SPANISH\n",
       "2       BRAZIL   PORTUGUESE\n",
       "3      URUGUAY      SPANISH\n",
       "4      GERMANY       GERMAN\n",
       "5       POLAND       POLISH\n",
       "6        SPAIN      SPANISH\n",
       "7      BELGIUM       FRENCH\n",
       "8      GERMANY       GERMAN\n",
       "9    ARGENTINA      SPANISH\n",
       "10       SPAIN      SPANISH\n",
       "11     BELGIUM       FRENCH\n",
       "12     BELGIUM       FRENCH\n",
       "13       CHILE      SPANISH\n",
       "14     CROATIA     CROATIAN"
      ]
     },
     "execution_count": 46,
     "metadata": {},
     "output_type": "execute_result"
    }
   ],
   "source": [
    "#Player country and language\n",
    "players_C_L[:15]"
   ]
  },
  {
   "cell_type": "code",
   "execution_count": 47,
   "metadata": {},
   "outputs": [
    {
     "name": "stderr",
     "output_type": "stream",
     "text": [
      "/home/ronny/anaconda3/lib/python3.7/site-packages/ipykernel_launcher.py:2: FutureWarning: `Series.plot()` should not be called with positional arguments, only keyword arguments. The order of positional arguments will change in the future. Use `Series.plot(kind='bar')` instead of `Series.plot('bar',)`.\n",
      "  \n"
     ]
    },
    {
     "data": {
      "image/png": "[encoded data removed]",
      "text/plain": [
       "<Figure size 1152x432 with 1 Axes>"
      ]
     },
     "metadata": {
      "needs_background": "light"
     },
     "output_type": "display_data"
    }
   ],
   "source": [
    "fig = plt.figure(figsize=(16,6))\n",
    "pd.Series(players_CL_cat['Language_cat']).value_counts().plot('bar')\n",
    "plt.show()"
   ]
  },
  {
   "cell_type": "code",
   "execution_count": 48,
   "metadata": {},
   "outputs": [
    {
     "data": {
      "image/png": "[encoded data removed]",
      "text/plain": [
       "<Figure size 1152x864 with 1 Axes>"
      ]
     },
     "metadata": {
      "needs_background": "light"
     },
     "output_type": "display_data"
    }
   ],
   "source": [
    "#Scatter Plot between Football Players Counties Vs. Nationalities\n",
    "types = players_C_L['Language_cat']\n",
    "plt.figure(figsize=(16,12))\n",
    "x_coords = players_CL_cat['Country_cat']\n",
    "y_coords = players_CL_cat['Language_cat']\n",
    "\n",
    "for i,type in enumerate(types):\n",
    "    x = x_coords[i]\n",
    "    y = y_coords[i]\n",
    "    plt.scatter(x, y, marker='o', color='red')\n",
    "    plt.text(x+0.3, y+0.3, type, fontsize=9)\n",
    "plt.show()"
   ]
  },
  {
   "cell_type": "code",
   "execution_count": 49,
   "metadata": {},
   "outputs": [],
   "source": [
    "#Preparing the data set\n",
    "y = players_CL_cat['Language_cat']\n",
    "y.columns = ['Language']\n",
    "\n",
    "X = players_CL_cat.values\n",
    "y = y.values\n",
    "\n",
    "X_train, X_test, y_train, y_test = train_test_split(X, y, random_state=0)\n",
    "\n",
    "scaler = MinMaxScaler()\n",
    "X_train = scaler.fit_transform(X_train)\n",
    "X_test = scaler.transform(X_test)"
   ]
  },
  {
   "cell_type": "code",
   "execution_count": 50,
   "metadata": {},
   "outputs": [
    {
     "name": "stdout",
     "output_type": "stream",
     "text": [
      "Accuracy of K-NN classifier on training set: 1.00\n",
      "Accuracy of K-NN classifier on test set: 1.00\n"
     ]
    }
   ],
   "source": [
    "#Clustering\n",
    "n_neighbors = 7\n",
    "\n",
    "knn = KNeighborsClassifier(n_neighbors)\n",
    "knn.fit(X_train, y_train)\n",
    "print('Accuracy of K-NN classifier on training set: {:.2f}'\n",
    "     .format(knn.score(X_train, y_train)))\n",
    "print('Accuracy of K-NN classifier on test set: {:.2f}'\n",
    "     .format(knn.score(X_test, y_test)))"
   ]
  },
  {
   "cell_type": "code",
   "execution_count": 51,
   "metadata": {},
   "outputs": [
    {
     "name": "stdout",
     "output_type": "stream",
     "text": [
      "[[ 15   0   0 ...   0   0   0]\n",
      " [  0   0   1 ...   0   0   0]\n",
      " [  0   0 126 ...   0   0   0]\n",
      " ...\n",
      " [  0   0   0 ...   8   0   0]\n",
      " [  0   0   0 ...   0  28   0]\n",
      " [  0   0   0 ...   0   0   0]]\n",
      "              precision    recall  f1-score   support\n",
      "\n",
      "           0       1.00      1.00      1.00        15\n",
      "           1       0.00      0.00      0.00         1\n",
      "           2       0.98      1.00      0.99       126\n",
      "           3       1.00      1.00      1.00         4\n",
      "           4       0.00      0.00      0.00         4\n",
      "           5       0.20      1.00      0.33         1\n",
      "           6       1.00      1.00      1.00         5\n",
      "           7       0.00      0.00      0.00         1\n",
      "           8       1.00      1.00      1.00         3\n",
      "           9       1.00      1.00      1.00        17\n",
      "          10       1.00      1.00      1.00        20\n",
      "          11       1.00      1.00      1.00        84\n",
      "          12       0.00      0.00      0.00         1\n",
      "          13       1.00      1.00      1.00       789\n",
      "          14       1.00      1.00      1.00         1\n",
      "          15       1.00      1.00      1.00         1\n",
      "          17       0.99      1.00      0.99       169\n",
      "          18       1.00      1.00      1.00        84\n",
      "          19       1.00      1.00      1.00         9\n",
      "          20       1.00      1.00      1.00       336\n",
      "          21       1.00      1.00      1.00        26\n",
      "          22       1.00      1.00      1.00         3\n",
      "          23       1.00      1.00      1.00         7\n",
      "          24       1.00      1.00      1.00        12\n",
      "          25       1.00      1.00      1.00       102\n",
      "          26       1.00      1.00      1.00       202\n",
      "          27       1.00      1.00      1.00       112\n",
      "          30       1.00      1.00      1.00         2\n",
      "          31       0.99      1.00      0.99        85\n",
      "          32       0.00      0.00      0.00         1\n",
      "          33       0.00      0.00      0.00         4\n",
      "          34       0.20      1.00      0.33         1\n",
      "          35       1.00      1.00      1.00         2\n",
      "          36       1.00      1.00      1.00         4\n",
      "          40       1.00      1.00      1.00         6\n",
      "          41       1.00      1.00      1.00         8\n",
      "          42       1.00      1.00      1.00       260\n",
      "          43       1.00      1.00      1.00         1\n",
      "          44       0.00      0.00      0.00         2\n",
      "          45       1.00      1.00      1.00         2\n",
      "          46       1.00      1.00      1.00        82\n",
      "          47       0.99      1.00      1.00       307\n",
      "          48       1.00      1.00      1.00        11\n",
      "          49       1.00      1.00      1.00        57\n",
      "          50       1.00      1.00      1.00        92\n",
      "          51       1.00      1.00      1.00        59\n",
      "          52       1.00      1.00      1.00        20\n",
      "          54       1.00      1.00      1.00        14\n",
      "          55       1.00      1.00      1.00        14\n",
      "          57       1.00      1.00      1.00       937\n",
      "          59       1.00      1.00      1.00       122\n",
      "          60       1.00      1.00      1.00         1\n",
      "          61       1.00      1.00      1.00        16\n",
      "          62       1.00      1.00      1.00         4\n",
      "          64       0.99      1.00      0.99        84\n",
      "          65       0.00      0.00      0.00         1\n",
      "          66       0.79      1.00      0.88        11\n",
      "          67       0.00      0.00      0.00         2\n",
      "          68       0.00      0.00      0.00         1\n",
      "          69       1.00      1.00      1.00        34\n",
      "          70       1.00      1.00      1.00        77\n",
      "          71       1.00      1.00      1.00         8\n",
      "          72       1.00      1.00      1.00        28\n",
      "          73       0.00      0.00      0.00         1\n",
      "\n",
      "    accuracy                           1.00      4496\n",
      "   macro avg       0.80      0.83      0.80      4496\n",
      "weighted avg       0.99      1.00      0.99      4496\n",
      "\n"
     ]
    },
    {
     "name": "stderr",
     "output_type": "stream",
     "text": [
      "/home/ronny/anaconda3/lib/python3.7/site-packages/sklearn/metrics/classification.py:1437: UndefinedMetricWarning: Precision and F-score are ill-defined and being set to 0.0 in labels with no predicted samples.\n",
      "  'precision', 'predicted', average, warn_for)\n"
     ]
    }
   ],
   "source": [
    "pred = knn.predict(X_test)\n",
    "print(confusion_matrix(y_test, pred))\n",
    "print(classification_report(y_test, pred))"
   ]
  },
  {
   "cell_type": "code",
   "execution_count": 52,
   "metadata": {},
   "outputs": [
    {
     "data": {
      "image/png": "[encoded data removed]",
      "text/plain": [
       "<Figure size 1152x648 with 1 Axes>"
      ]
     },
     "metadata": {},
     "output_type": "display_data"
    }
   ],
   "source": [
    "# Create color maps\n",
    "%matplotlib inline\n",
    "plt.rcParams['figure.figsize'] = (16, 9)\n",
    "plt.style.use('ggplot')\n",
    "\n",
    "h = 0.2\n",
    "cmap_light = ListedColormap(['#FFAAAA', '#ffcc99', '#ffffb3','#b3ffff','#c2f0c2'])\n",
    "cmap_bold = ListedColormap(['#FF0000', '#ff9933','#FFFF00','#00ffff','#00FF00'])\n",
    " \n",
    "# we create an instance of Neighbours Classifier and fit the data.\n",
    "clf = KNeighborsClassifier(n_neighbors, algorithm='auto')\n",
    "clf.fit(X, y)\n",
    " \n",
    "# Plot the decision boundary. For that, we will assign a color to each\n",
    "# point in the mesh [x_min, x_max]x[y_min, y_max].\n",
    "x_min, x_max = X[:, 0].min() - 1, X[:, 0].max() + 1\n",
    "y_min, y_max = X[:, 1].min() - 1, X[:, 1].max() + 1\n",
    "xx, yy = np.meshgrid(np.arange(x_min, x_max, h),\n",
    "                         np.arange(y_min, y_max, h))\n",
    "Z = clf.predict(np.c_[xx.ravel(), yy.ravel()])\n",
    " \n",
    "# Put the result into a color plot\n",
    "Z = Z.reshape(xx.shape)\n",
    "plt.figure()\n",
    "plt.pcolormesh(xx, yy, Z, cmap=cmap_light)\n",
    " \n",
    "# Plot also the training points\n",
    "plt.scatter(X[:, 0], X[:, 1], c=y, cmap=cmap_bold,\n",
    "                edgecolor='k', s=20)\n",
    "plt.xlim(xx.min(), xx.max())\n",
    "plt.ylim(yy.min(), yy.max())\n",
    "    \n",
    "patch0 = mpatches.Patch(color='#FF0000', label='1')\n",
    "patch1 = mpatches.Patch(color='#ff9933', label='2')\n",
    "patch2 = mpatches.Patch(color='#FFFF00', label='3')\n",
    "patch3 = mpatches.Patch(color='#00ffff', label='4')\n",
    "patch4 = mpatches.Patch(color='#00FF00', label='5')\n",
    "plt.legend(handles=[patch0, patch1, patch2, patch3,patch4])\n",
    " \n",
    "    \n",
    "plt.title(\"5-Class classification (k = %i)\"\n",
    "              % (n_neighbors))\n",
    "\n",
    "for i,type in enumerate(types):\n",
    "    x = x_coords[i]\n",
    "    y = y_coords[i]\n",
    "    plt.scatter(x, y)\n",
    "    plt.text(x+0.3, y+0.3, type, fontsize=9)\n",
    "plt.show()"
   ]
  },
  {
   "cell_type": "markdown",
   "metadata": {},
   "source": [
    "Checking the previous scatter plot, we can see that the football player languages are aligned in the horizontal direction. So, the KNN classification is correct. "
   ]
  },
  {
   "cell_type": "markdown",
   "metadata": {},
   "source": [
    "## Objetive 3"
   ]
  },
  {
   "cell_type": "markdown",
   "metadata": {},
   "source": [
    "In this section, the principal objective in focus on to extract information on social media to obtain information about the new game FIFA 20. We need to detect the sentiment of the localization game for different countries."
   ]
  },
  {
   "cell_type": "code",
   "execution_count": 53,
   "metadata": {},
   "outputs": [],
   "source": [
    "#Credential for to get access to Twitter app\n",
    "{\n",
    "    \"tags\": [\n",
    "        \"remove_input\",\n",
    "    ]\n",
    "}\n",
    "# @hidden_cell\n",
    "consumer_key = 'QvXr1zeEY23RkkVtuPlznMsum'\n",
    "consumer_key_secret = 'SiVCmu6y4Bwjeecy07FLzT93vwnLXpwZcHOGYLadOn1olQfVkN'\n",
    "access_token = '43378610-7PZx0rq8zrDt6Ypqo18lfYsRJb2z7g3E6iQBgFA6p'\n",
    "access_token_secret = 'N40IJpdB5LFj5S207s7PuCQb33zxk9saI8aLLjJkjRdCu'"
   ]
  },
  {
   "cell_type": "code",
   "execution_count": 54,
   "metadata": {},
   "outputs": [],
   "source": [
    "max_tweets = 1000\n",
    "\n",
    "key_pwd = tweepy.OAuthHandler(consumer_key, consumer_key_secret)\n",
    "\n",
    "key_pwd.set_access_token(access_token, access_token_secret)\n",
    "\n",
    "api_req = tweepy.API(key_pwd)"
   ]
  },
  {
   "cell_type": "code",
   "execution_count": 55,
   "metadata": {},
   "outputs": [],
   "source": [
    "#Twitter search\n",
    "public_tweets = api_req.search('fifa20', count=100)"
   ]
  },
  {
   "cell_type": "code",
   "execution_count": 56,
   "metadata": {},
   "outputs": [
    {
     "name": "stdout",
     "output_type": "stream",
     "text": [
      "RT @FUTJack__: If you don’t RT this tweet then these will be your player picks tomorrow....\n",
      "\n",
      "CHOICE IS YOURS 🤷🏼‍♂️\n",
      "\n",
      "#FIFA20 #TOTW6 https://…\n",
      "Sentiment(polarity=0.0, subjectivity=0.0)\n",
      "Neutral\n",
      "📢 Je démarre un 🔴 LIVE sur #FIFA20 ! https://t.co/U9b4yyV535 #wizebot #twitch\n",
      "Sentiment(polarity=0.17045454545454544, subjectivity=0.5)\n",
      "Positive\n",
      "RT @MorgsFIFA: REWARDS DAY GIVEAWAY! \n",
      "\n",
      "▫️Pack Griezmann (Red or IF) = 4.6k FP\n",
      "▫️Pack Ben Yedder (Red or IF) = 2.2k FP\n",
      "\n",
      "RT &amp; follow @MorgsFI…\n",
      "Sentiment(polarity=0.0, subjectivity=0.0)\n",
      "Neutral\n",
      "RT @NepentheZ: #FIFA20 ?\n",
      "\n",
      "Completed it mate. https://t.co/h6oEoaIahb\n",
      "Sentiment(polarity=0.0, subjectivity=0.0)\n",
      "Neutral\n",
      "RT @MorgsFIFA: REWARDS DAY GIVEAWAY! \n",
      "\n",
      "▫️Pack Griezmann (Red or IF) = 4.6k FP\n",
      "▫️Pack Ben Yedder (Red or IF) = 2.2k FP\n",
      "\n",
      "RT &amp; follow @MorgsFI…\n",
      "Sentiment(polarity=0.0, subjectivity=0.0)\n",
      "Neutral\n",
      "RT @BadeschlappenLP: 🎉 24h Livestream 🎉\n",
      "\n",
      "Wann? 👉 Freitag ab 15 Uhr!\n",
      "Was? 👉 #FIFA20, Giveaways &amp; vieles mehr!\n",
      "Wo? 👉 https://t.co/6ecTvylVIj…\n",
      "Sentiment(polarity=0.0, subjectivity=0.0)\n",
      "Neutral\n",
      "RT @KrasiFIFA: GIVEAWAY TIME! RT + FOLLOW to WIN 6k FPS on any platform! I'm not greedy guys. All I want from the new TOTW is packing that…\n",
      "Sentiment(polarity=0.5681818181818181, subjectivity=0.42727272727272725)\n",
      "Positive\n",
      "RT @ZSeSports_Fifa: 🇪🇸 #FIFA20    \n",
      "\n",
      "¿Estás buscando club para el #FIFA20    ? \n",
      "\n",
      "En SGO eSports te estamos esperando, si eres:\n",
      "\n",
      "GK\n",
      "DFC\n",
      "LT\n",
      "Me…\n",
      "Sentiment(polarity=0.0, subjectivity=0.0)\n",
      "Neutral\n",
      "@EASPORTSFIFA are giving these 2 players for around 300k and It's repeatable 😂\n",
      "\n",
      "Here's the list of CAM/ST icons you… https://t.co/WuuMOn7XoD\n",
      "Sentiment(polarity=0.0, subjectivity=0.0)\n",
      "Neutral\n",
      "RT @NepentheZ: EA are actually pulling this game from the ashes since the scream promo started. League SBC's are a huge W. Scream promo is…\n",
      "Sentiment(polarity=1.850371707708594e-17, subjectivity=0.4666666666666666)\n",
      "Positive\n",
      "RT @BadeschlappenLP: 🎉 24h Livestream 🎉\n",
      "\n",
      "Wann? 👉 Freitag ab 15 Uhr!\n",
      "Was? 👉 #FIFA20, Giveaways &amp; vieles mehr!\n",
      "Wo? 👉 https://t.co/6ecTvylVIj…\n",
      "Sentiment(polarity=0.0, subjectivity=0.0)\n",
      "Neutral\n",
      "Me trying to trade in #Fifa20 https://t.co/KHSmZBsTxS\n",
      "Sentiment(polarity=0.0, subjectivity=0.0)\n",
      "Neutral\n",
      "RT @ZidanesGlory: Giveaway!!!\n",
      "Win this fifa 20 X Fifa 20 bundle.     Rt and follow to enter.                              Winner in 24 hour…\n",
      "Sentiment(polarity=0.8, subjectivity=0.4)\n",
      "Positive\n",
      "RT @TeamGamerLegion: It's my lucky day! Just opened a new pack in #Fifa20 and did get an absolute jackpot! \n",
      "@ProhunterFIFA won 90 games and…\n",
      "Sentiment(polarity=0.2676767676767677, subjectivity=0.7292929292929293)\n",
      "Positive\n",
      "WLの報酬今日ひこうと思ったけどハロウィンのパック変わるからその時にひいたほうがよさげかな。\n",
      "\n",
      "#fifa20\n",
      "Sentiment(polarity=0.0, subjectivity=0.0)\n",
      "Neutral\n",
      "RT @BadeschlappenLP: 🎉 24h Livestream 🎉\n",
      "\n",
      "Wann? 👉 Freitag ab 15 Uhr!\n",
      "Was? 👉 #FIFA20, Giveaways &amp; vieles mehr!\n",
      "Wo? 👉 https://t.co/6ecTvylVIj…\n",
      "Sentiment(polarity=0.0, subjectivity=0.0)\n",
      "Neutral\n",
      "LIVE IN 5 for ReWARDS! @BuckArmy will be opening my Elite 3 Rewards! #FIFA20 #Razer https://t.co/oBihjsBnK3 https://t.co/UxFnhCzZIo\n",
      "Sentiment(polarity=0.2130681818181818, subjectivity=0.5)\n",
      "Positive\n",
      "RT @EASPORTSFIFA: #TOTW 6⃣ includes Nainggolan as a RW 😯!\n",
      "\n",
      "Available in packs at 6PM 🕕 UK. #FUT20 #FIFA20 https://t.co/CSaYutnrow\n",
      "Sentiment(polarity=0.4, subjectivity=0.4)\n",
      "Positive\n",
      "RT @REAPERZz_YT: *LIVE* ELITE 3 FUT CHAMPS + DIVISION RIVALS REWARDS 🤑🎃 CAN WE DO A MADNE... https://t.co/enyI1S31yB via @YouTube #REWARDSD…\n",
      "Sentiment(polarity=0.13636363636363635, subjectivity=0.5)\n",
      "Positive\n",
      "- جوائز الدفجين رايفلز متوفرة الآن ..\n",
      "#FIFA20\n",
      "اتحفونا من جاكم.. https://t.co/Pasfy3YzYQ\n",
      "Sentiment(polarity=0.0, subjectivity=0.0)\n",
      "Neutral\n",
      "@Cdiscount #CdiscountPourraisTuMoffrir \n",
      "Fifa20 ps4\n",
      "Call of duty modern warfare ps4\n",
      "Tom Clancy's Ghost Recon Breakpoint\n",
      "Sentiment(polarity=0.2, subjectivity=0.3)\n",
      "Positive\n",
      "@Cdiscount #CdiscountPourraisTuMoffrir \n",
      "#Medievil \n",
      "#Borderlands3\n",
      "#FIFA20\n",
      "Merciiiii 🍀\n",
      "Sentiment(polarity=0.0, subjectivity=0.0)\n",
      "Neutral\n",
      "Futbol puro robar y aprovechar q la defensa no esta firme #Fifa20  #PS4share\n",
      "\n",
      "https://t.co/iF0PEMplHP https://t.co/AmzufwinxM\n",
      "Sentiment(polarity=0.0, subjectivity=0.0)\n",
      "Neutral\n",
      "スカッド変えましたー\n",
      "#fifa20 https://t.co/09PPPNNI28\n",
      "Sentiment(polarity=0.0, subjectivity=0.0)\n",
      "Neutral\n",
      "RT @MorgsFIFA: REWARDS DAY GIVEAWAY! \n",
      "\n",
      "▫️Pack Griezmann (Red or IF) = 4.6k FP\n",
      "▫️Pack Ben Yedder (Red or IF) = 2.2k FP\n",
      "\n",
      "RT &amp; follow @MorgsFI…\n",
      "Sentiment(polarity=0.0, subjectivity=0.0)\n",
      "Neutral\n",
      "@RaiedM6 @fifa20_20 تفوز مباراتين وبتشكيلتك الاساسية لاعبين ٢ بطاقتهم زرقاء\n",
      "Sentiment(polarity=0.0, subjectivity=0.0)\n",
      "Neutral\n",
      "RT @FUTJack__: If you don’t RT this tweet then these will be your player picks tomorrow....\n",
      "\n",
      "CHOICE IS YOURS 🤷🏼‍♂️\n",
      "\n",
      "#FIFA20 #TOTW6 https://…\n",
      "Sentiment(polarity=0.0, subjectivity=0.0)\n",
      "Neutral\n",
      "RT @FcuGaming: 🚨 #FIFA20  #giveaway #FUT20 #NoRoomForRacism 🚨\n",
      "\n",
      "EASY CHANCE TO WIN!\n",
      "\n",
      "Giving a digital copy of FIFA 20⚽Points Digital Card On…\n",
      "Sentiment(polarity=0.35833333333333334, subjectivity=0.30833333333333335)\n",
      "Positive\n",
      "RT @ovo_oct: 🚨#FIFA20 #giveaway #FUT20🚨\n",
      "\n",
      "Giving a digital copy of FIFA 20 1050 Points Digital Card On a console of your choice\n",
      "\n",
      "What you ne…\n",
      "Sentiment(polarity=0.0, subjectivity=0.0)\n",
      "Neutral\n",
      "Les récompenses Division Rivals sur FIFA 20 : https://t.co/7pJSP6g5K3 \n",
      "#FUT20 #FIFA20 https://t.co/cnK4qpS1wf\n",
      "Sentiment(polarity=0.0, subjectivity=0.0)\n",
      "Neutral\n",
      "RT @MikeLaBelle: 🚨GIVEAWAY TIME 🚨\n",
      "\n",
      "FOLLOW &amp; RETWEET for entry for a chance to get this DEAD STOCK Michael Owen legends card! \n",
      "\n",
      "GOODLUCK 🤝…\n",
      "Sentiment(polarity=-0.25, subjectivity=0.4)\n",
      "Negative\n",
      "RT @MorgsFIFA: REWARDS DAY GIVEAWAY! \n",
      "\n",
      "▫️Pack Griezmann (Red or IF) = 4.6k FP\n",
      "▫️Pack Ben Yedder (Red or IF) = 2.2k FP\n",
      "\n",
      "RT &amp; follow @MorgsFI…\n",
      "Sentiment(polarity=0.0, subjectivity=0.0)\n",
      "Neutral\n",
      "RT @BadeschlappenLP: 🎉 24h Livestream 🎉\n",
      "\n",
      "Wann? 👉 Freitag ab 15 Uhr!\n",
      "Was? 👉 #FIFA20, Giveaways &amp; vieles mehr!\n",
      "Wo? 👉 https://t.co/6ecTvylVIj…\n",
      "Sentiment(polarity=0.0, subjectivity=0.0)\n",
      "Neutral\n",
      "RT @NJayHighways: Live and just gonna play FIFA ✌🏼 come swing by \n",
      "\n",
      "#FIFA20 #FUT20 #FIFAPOINTS           #twitch #TwitchANZ \n",
      "#egirl #RazerSt…\n",
      "Sentiment(polarity=0.13636363636363635, subjectivity=0.5)\n",
      "Positive\n",
      "Salah es una delicia #Fifa20  #PS4share\n",
      "\n",
      "https://t.co/iF0PEMplHP https://t.co/u8LzZEWGuQ\n",
      "Sentiment(polarity=0.0, subjectivity=0.0)\n",
      "Neutral\n",
      "RT @NJayHighways: Live and just gonna play FIFA ✌🏼 come swing by \n",
      "\n",
      "#FIFA20 #FUT20 #FIFAPOINTS           #twitch #TwitchANZ \n",
      "#egirl #RazerSt…\n",
      "Sentiment(polarity=0.13636363636363635, subjectivity=0.5)\n",
      "Positive\n",
      "RT @SB29: Ça te dit de remporter #FIFA20 ou #PES2020 sur PS4 ? 🤔\n",
      "\n",
      "Pour participer c'est très simple : \n",
      "\n",
      "1⃣ RT ce tweet + Follow @SB29 \n",
      "2⃣ M…\n",
      "Sentiment(polarity=0.0, subjectivity=0.35714285714285715)\n",
      "Neutral\n",
      "Aguero with Hunter is the best Striker in the PL hth #FIFA20\n",
      "Sentiment(polarity=1.0, subjectivity=0.3)\n",
      "Positive\n",
      "Missed out on rank 1 by 60 points 😂😂 #fifa20\n",
      "Sentiment(polarity=-0.8, subjectivity=0.9)\n",
      "Negative\n",
      "#Fifa20  #PS4share\n",
      "\n",
      "https://t.co/iF0PEMplHP https://t.co/xKQeBv9ElK\n",
      "Sentiment(polarity=0.0, subjectivity=0.0)\n",
      "Neutral\n",
      "RT @KrasiFIFA: GIVEAWAY TIME! RT + FOLLOW to WIN 6k FPS on any platform! I'm not greedy guys. All I want from the new TOTW is packing that…\n",
      "Sentiment(polarity=0.5681818181818181, subjectivity=0.42727272727272725)\n",
      "Positive\n",
      "RT @ovo_oct: 🚨#FIFA20 #giveaway #FUT20🚨\n",
      "\n",
      "Giving a digital copy of FIFA 20 1050 Points Digital Card On a console of your choice\n",
      "\n",
      "What you ne…\n",
      "Sentiment(polarity=0.0, subjectivity=0.0)\n",
      "Neutral\n",
      "RT @ZidanesGlory: Giveaway!!!\n",
      "Win this fifa 20 X Fifa 20 bundle.     Rt and follow to enter.                              Winner in 24 hour…\n",
      "Sentiment(polarity=0.8, subjectivity=0.4)\n",
      "Positive\n",
      "Live and just gonna play FIFA ✌🏼 come swing by \n",
      "\n",
      "#FIFA20 #FUT20 #FIFAPOINTS           #twitch #TwitchANZ \n",
      "#egirl… https://t.co/EKoG3hRgci\n",
      "Sentiment(polarity=0.13636363636363635, subjectivity=0.5)\n",
      "Positive\n",
      "RT @KrasiFIFA: GIVEAWAY TIME! RT + FOLLOW to WIN 6k FPS on any platform! I'm not greedy guys. All I want from the new TOTW is packing that…\n",
      "Sentiment(polarity=0.5681818181818181, subjectivity=0.42727272727272725)\n",
      "Positive\n",
      "No ha sido gol pero q forma de mover la pelota mareando al rival #Fifa20  #PS4share\n",
      "\n",
      "https://t.co/iF0PEMplHP https://t.co/M8Sb9x7lcX\n",
      "Sentiment(polarity=0.0, subjectivity=0.0)\n",
      "Neutral\n",
      "#CdiscountPourraisTuMoffrir FiFa20, Red Dead Redemption, Les sims 4 🥺🥺🥺🥺🥺🥺🥺\n",
      "Sentiment(polarity=-0.1, subjectivity=0.2)\n",
      "Negative\n",
      "#fifa20 https://t.co/uoPW3BPgH6\n",
      "Sentiment(polarity=0.0, subjectivity=0.0)\n",
      "Neutral\n",
      "それくらいFIFA20のキーパーには殺意しか出てこないｗ\n",
      "とにかく何でも止める、止める。笑 https://t.co/qwyMr2Piiw\n",
      "Sentiment(polarity=0.0, subjectivity=0.0)\n",
      "Neutral\n",
      "@Cdiscount Fifa20 sur ps4\n",
      "\n",
      "#CdiscountPourraisTuMoffrir\n",
      "Sentiment(polarity=0.0, subjectivity=0.0)\n",
      "Neutral\n",
      "Немецкая 🇩🇪 Бундеслига доступна для сборки в ИПК лиг!  #FUT20 #FIFA20 https://t.co/i3vfM63rCP\n",
      "Sentiment(polarity=0.0, subjectivity=0.0)\n",
      "Neutral\n",
      "RT @MorgsFIFA: REWARDS DAY GIVEAWAY! \n",
      "\n",
      "▫️Pack Griezmann (Red or IF) = 4.6k FP\n",
      "▫️Pack Ben Yedder (Red or IF) = 2.2k FP\n",
      "\n",
      "RT &amp; follow @MorgsFI…\n",
      "Sentiment(polarity=0.0, subjectivity=0.0)\n",
      "Neutral\n",
      "RT @UL1BARRI: Una disculpa por ser así, no puedo evitarlo ❤⚽ 🎮#FIFA20 https://t.co/E9rVTJFf3o\n",
      "Sentiment(polarity=0.0, subjectivity=0.0)\n",
      "Neutral\n",
      "RT @MorgsFIFA: REWARDS DAY GIVEAWAY! \n",
      "\n",
      "▫️Pack Griezmann (Red or IF) = 4.6k FP\n",
      "▫️Pack Ben Yedder (Red or IF) = 2.2k FP\n",
      "\n",
      "RT &amp; follow @MorgsFI…\n",
      "Sentiment(polarity=0.0, subjectivity=0.0)\n",
      "Neutral\n",
      "RT @Jandoezoeman: Soo 4600 #FIFA20 FP giveaway\n",
      "\n",
      "Rt this\n",
      "\n",
      "Follow us and @NoenNHR \n",
      "\n",
      "Winner when i reach 300 followers https://t.co/q164IWBtl0\n",
      "Sentiment(polarity=0.0, subjectivity=0.0)\n",
      "Neutral\n",
      "Guardatela messi q la llevas colgando #Fifa20  #PS4share\n",
      "\n",
      "https://t.co/iF0PEMplHP https://t.co/woAUCYcI68\n",
      "Sentiment(polarity=0.0, subjectivity=0.0)\n",
      "Neutral\n",
      "RT @MorgsFIFA: REWARDS DAY GIVEAWAY! \n",
      "\n",
      "▫️Pack Griezmann (Red or IF) = 4.6k FP\n",
      "▫️Pack Ben Yedder (Red or IF) = 2.2k FP\n",
      "\n",
      "RT &amp; follow @MorgsFI…\n",
      "Sentiment(polarity=0.0, subjectivity=0.0)\n",
      "Neutral\n",
      "RT @MorgsFIFA: REWARDS DAY GIVEAWAY! \n",
      "\n",
      "▫️Pack Griezmann (Red or IF) = 4.6k FP\n",
      "▫️Pack Ben Yedder (Red or IF) = 2.2k FP\n",
      "\n",
      "RT &amp; follow @MorgsFI…\n",
      "Sentiment(polarity=0.0, subjectivity=0.0)\n",
      "Neutral\n",
      "Time to collect credit of Division Rivals.\n",
      "#DivisionRivals #FIFA20 #ultimateteam\n",
      "Sentiment(polarity=0.0, subjectivity=0.0)\n",
      "Neutral\n",
      "Hwang In-beom Edition 🇰🇷 #FIFA20 https://t.co/DtyrnycSJ2\n",
      "Sentiment(polarity=0.0, subjectivity=0.0)\n",
      "Neutral\n",
      "Anyone help me please with division rival rewards, I have the option of taking 35k coins, open 2 35k packs traceabl… https://t.co/7mGG2Kw6r6\n",
      "Sentiment(polarity=0.0, subjectivity=0.5)\n",
      "Neutral\n",
      "今ノイアーのセーブ集見たけど、だったらFIFA20のキーパーみんなノイアーじゃんって思った\n",
      "Sentiment(polarity=0.0, subjectivity=0.0)\n",
      "Neutral\n",
      "يارررررررررب بكجااااات تفتح النفس #FIFA20\n",
      "Sentiment(polarity=0.0, subjectivity=0.0)\n",
      "Neutral\n",
      "RT @BadeschlappenLP: 🎉 24h Livestream 🎉\n",
      "\n",
      "Wann? 👉 Freitag ab 15 Uhr!\n",
      "Was? 👉 #FIFA20, Giveaways &amp; vieles mehr!\n",
      "Wo? 👉 https://t.co/6ecTvylVIj…\n",
      "Sentiment(polarity=0.0, subjectivity=0.0)\n",
      "Neutral\n",
      "RT @EASPORTSFIFA: #TOTW 6⃣ includes Nainggolan as a RW 😯!\n",
      "\n",
      "Available in packs at 6PM 🕕 UK. #FUT20 #FIFA20 https://t.co/CSaYutnrow\n",
      "Sentiment(polarity=0.4, subjectivity=0.4)\n",
      "Positive\n",
      "RT @UniqueRiggers: I see Leipzig upgraded to Scream Sabitzer #Fifa20 \n",
      "\n",
      "https://t.co/5Ssx5QTvdk\n",
      "Sentiment(polarity=0.0, subjectivity=0.0)\n",
      "Neutral\n",
      "RT @BoyleSports: RT &amp; FOLLOW\n",
      "for your chance to #win a #PS4 Pro with a copy of #FIFA20! \n",
      "\n",
      "🎮 Winner announced Monday, 21st October. T&amp;Cs app…\n",
      "Sentiment(polarity=0.5, subjectivity=0.2)\n",
      "Positive\n",
      "Dominando #Fifa20  #PS4share https://t.co/AXtFL0og2k\n",
      "Sentiment(polarity=0.0, subjectivity=0.0)\n",
      "Neutral\n",
      "Die erste EEP Beta Version kommt heute! #FIFA20 #EEP #FIFAModding https://t.co/QDIHmoiIHW\n",
      "Sentiment(polarity=0.0, subjectivity=0.0)\n",
      "Neutral\n",
      "Schofield Simpson stankovic Schindler J.brown hogg R.Brown diakhaby O'brian grant Campbell subs Coleman Elphick flo… https://t.co/xpSQmBFLN8\n",
      "Sentiment(polarity=0.0, subjectivity=0.0)\n",
      "Neutral\n",
      "RT @ZidanesGlory: Giveaway!\n",
      "\n",
      "Win 12.000 fifa points or the paypal value (€100)\n",
      "\n",
      "Rt and follow me\n",
      "Tag friends for 2x chance of winning\n",
      "\n",
      "#FIF…\n",
      "Sentiment(polarity=0.65, subjectivity=0.575)\n",
      "Positive\n",
      "RT @Countdown4Santa: GIVEAWAY! GTX 1080Ti Card 😯\n",
      "\n",
      "Look What Has Arrived 👀 \n",
      "\n",
      "1) RT\n",
      "2) GEFORCE (1 Letter sent at a time)\n",
      "3) Follow @Countdown…\n",
      "Sentiment(polarity=0.0, subjectivity=0.0)\n",
      "Neutral\n",
      "RT @Snow_Fantasy_FC: こんにちは\n",
      "本日 部活動 行います\n",
      "大会参加に向け 毎日練習積んでます\n",
      "集合人数不定期の為\n",
      "体験者募集します\n",
      "1〜3人\n",
      "ポジション\n",
      "CB、SBの方を\n",
      "優先させていただきます\n",
      "興味ある方はDM下さい\n",
      "#FIFA20\n",
      "#プロクラブ\n",
      "#体験\n",
      "Sentiment(polarity=0.0, subjectivity=0.0)\n",
      "Neutral\n",
      "RT @ZSeSports_Fifa: 🇪🇸 #FIFA20    \n",
      "\n",
      "¿Estás buscando club para el #FIFA20    ? \n",
      "\n",
      "En SGO eSports te estamos esperando, si eres:\n",
      "\n",
      "GK\n",
      "DFC\n",
      "LT\n",
      "Me…\n",
      "Sentiment(polarity=0.0, subjectivity=0.0)\n",
      "Neutral\n",
      "RT @crodroll: Which one would you like to see in your team? #FIFA20 #FUT20 #FUTChampions https://t.co/WKJOlERuAT\n",
      "Sentiment(polarity=0.0, subjectivity=0.0)\n",
      "Neutral\n",
      "RT @PlaythePercent: THE HUGE PTP #Competition #Giveaway\n",
      "\n",
      "PLAYSTATION 4 with #FIFA20\n",
      "or £150 CASH\n",
      "\n",
      "A Full Years Subscription to Play The Per…\n",
      "Sentiment(polarity=0.375, subjectivity=0.7250000000000001)\n",
      "Positive\n",
      "RT @BoyleSports: RT &amp; FOLLOW\n",
      "for your chance to #win a #PS4 Pro with a copy of #FIFA20! \n",
      "\n",
      "🎮 Winner announced Monday, 21st October. T&amp;Cs app…\n",
      "Sentiment(polarity=0.5, subjectivity=0.2)\n",
      "Positive\n",
      "RT @CHRI5TENTFF: #FiFA20 I Need A Big Push To 1000 Subs On The Official ™ CHRI5 TEN TFF YouTube Channel Thanks 4 Supporting I'm At 944 Come…\n",
      "Sentiment(polarity=0.1125, subjectivity=0.1375)\n",
      "Positive\n",
      "#FiFA20 I Need A Big Push To 1000 Subs On The Official ™ CHRI5 TEN TFF YouTube Channel Thanks 4 Supporting I'm At 9… https://t.co/db6aoOAroI\n",
      "Sentiment(polarity=0.1125, subjectivity=0.1375)\n",
      "Positive\n",
      "@fifa20_20 https://t.co/79UXOsa0v8\n",
      "Sentiment(polarity=0.0, subjectivity=0.0)\n",
      "Neutral\n",
      "アウェイで首位のイプスウィッチに快勝！\n",
      "\n",
      "#FIFA20\n",
      "#キャリアモード\n",
      "#PS4share https://t.co/8Qzgpz7wGe\n",
      "Sentiment(polarity=0.0, subjectivity=0.0)\n",
      "Neutral\n",
      "Also good luck with your #futchamp rewards this morning hope you pack something good! No red arsenal cards so I'm n… https://t.co/zgI1Fp0hDD\n",
      "Sentiment(polarity=0.525, subjectivity=0.4000000000000001)\n",
      "Positive\n",
      "Going to go Suarez a try, anyone else used him and is he any good? #FIFA20 https://t.co/OWasCphS2V\n",
      "Sentiment(polarity=0.7, subjectivity=0.6000000000000001)\n",
      "Positive\n",
      "FIFA 20 Download PC #Fifa20Download #FIFA20 https://t.co/bqHgQ6tl6Y\n",
      "Sentiment(polarity=0.0, subjectivity=0.0)\n",
      "Neutral\n",
      "FIFA 20 Download PC #Fifa20Download #FIFA20 https://t.co/Aolvzz8eeg\n",
      "Sentiment(polarity=0.0, subjectivity=0.0)\n",
      "Neutral\n",
      "RT @EASPORTSFIFA: #TOTW 6⃣ includes Nainggolan as a RW 😯!\n",
      "\n",
      "Available in packs at 6PM 🕕 UK. #FUT20 #FIFA20 https://t.co/CSaYutnrow\n",
      "Sentiment(polarity=0.4, subjectivity=0.4)\n",
      "Positive\n",
      "RT @BoyleSports: RT &amp; FOLLOW\n",
      "for your chance to #win a #PS4 Pro with a copy of #FIFA20! \n",
      "\n",
      "🎮 Winner announced Monday, 21st October. T&amp;Cs app…\n",
      "Sentiment(polarity=0.5, subjectivity=0.2)\n",
      "Positive\n",
      "RT @ZidanesGlory: Giveaway!!!\n",
      "Win this fifa 20 X Fifa 20 bundle.     Rt and follow to enter.                              Winner in 24 hour…\n",
      "Sentiment(polarity=0.8, subjectivity=0.4)\n",
      "Positive\n",
      "Sorry, took a little break from streaming. \n",
      "I had some IRL stuff to sort out.\n",
      "\n",
      "-&gt; But, we're live now 😅 @… https://t.co/tWEDAZHeOv\n",
      "Sentiment(polarity=-0.18371212121212122, subjectivity=0.6666666666666666)\n",
      "Negative\n",
      "RT @BadeschlappenLP: 🎉 24h Livestream 🎉\n",
      "\n",
      "Wann? 👉 Freitag ab 15 Uhr!\n",
      "Was? 👉 #FIFA20, Giveaways &amp; vieles mehr!\n",
      "Wo? 👉 https://t.co/6ecTvylVIj…\n",
      "Sentiment(polarity=0.0, subjectivity=0.0)\n",
      "Neutral\n",
      "#FIFA20 #FIFA #WordCup20Indonrsia https://t.co/yQUfcqg8HH\n",
      "Sentiment(polarity=0.0, subjectivity=0.0)\n",
      "Neutral\n",
      "@Cdiscount #CdiscountPourraisTuMoffrir Fifa20, Assassin's Creed Odyssey, Control\n",
      "Sur pc évidemment\n",
      "Sentiment(polarity=0.0, subjectivity=0.0)\n",
      "Neutral\n",
      "YASH! CONGRATULATIONS @PSSI! CONGRATULATIONS Bapak Jokowi. Selamat, Indonesia 🇲🇨 ! Selamat datang dunia @fifau20… https://t.co/2QGBFemKFq\n",
      "Sentiment(polarity=0.0, subjectivity=0.0)\n",
      "Neutral\n",
      "هذا واحد جاب التعادل بداية الشوط الثاني ٢-٢ ويقعد يسكت ويدور بالملعب , هو استفزني بس !؟ جلدته ٨ بشوط واحد , ماتسكت… https://t.co/3IPrPK6KPU\n",
      "Sentiment(polarity=0.0, subjectivity=0.0)\n",
      "Neutral\n",
      "@Cdiscount #CdiscountPourraisTuMoffrir\n",
      "\n",
      "FIFA20 (PS4)\n",
      "CRASH TEAM RACING (PS4)\n",
      "CALL OF MODERN WARFARE (PS4)\n",
      "\n",
      "😊🤞\n",
      "Sentiment(polarity=0.2, subjectivity=0.3)\n",
      "Positive\n",
      "RT @AVFCmemes: Grealish to Wesley and McGinn now he’s in the TOTW aswell \n",
      "\n",
      "#AVFC #FIFA20 #UTV #TOTW\n",
      "\n",
      "https://t.co/a0F0hciK9T\n",
      "Sentiment(polarity=0.0, subjectivity=0.0)\n",
      "Neutral\n",
      "RT @fc_knm: コハロン東京、魂のストライカー永井謙佑 #FIFA20\n",
      "\n",
      "@Kohalon https://t.co/ltX1d06xAh\n",
      "Sentiment(polarity=0.0, subjectivity=0.0)\n",
      "Neutral\n",
      "RT @MorgsFIFA: REWARDS DAY GIVEAWAY! \n",
      "\n",
      "▫️Pack Griezmann (Red or IF) = 4.6k FP\n",
      "▫️Pack Ben Yedder (Red or IF) = 2.2k FP\n",
      "\n",
      "RT &amp; follow @MorgsFI…\n",
      "Sentiment(polarity=0.0, subjectivity=0.0)\n",
      "Neutral\n",
      "Yo guys, I’ve been off for a day or so and it looks like the markets fallen, do I just cut my losses and go liquid… https://t.co/kkToriYFTd\n",
      "Sentiment(polarity=0.0, subjectivity=0.0)\n",
      "Neutral\n",
      "RT @FUTJack__: If you don’t RT this tweet then these will be your player picks tomorrow....\n",
      "\n",
      "CHOICE IS YOURS 🤷🏼‍♂️\n",
      "\n",
      "#FIFA20 #TOTW6 https://…\n",
      "Sentiment(polarity=0.0, subjectivity=0.0)\n",
      "Neutral\n"
     ]
    }
   ],
   "source": [
    "positive_list = []\n",
    "negative_list = []\n",
    "neutral_list = []\n",
    "\n",
    "for tweet in public_tweets:    \n",
    "    print(tweet.text)    \n",
    "    analysis = TextBlob(tweet.text)    \n",
    "    print(analysis.sentiment)    \n",
    "    if analysis.sentiment[0]>0:\n",
    "        positive_list.append(analysis)\n",
    "        print('Positive')\n",
    "    elif analysis.sentiment[0]<0:\n",
    "        negative_list.append(analysis)\n",
    "        print('Negative')\n",
    "    else:\n",
    "        neutral_list.append(analysis)\n",
    "        print('Neutral')"
   ]
  },
  {
   "cell_type": "code",
   "execution_count": 57,
   "metadata": {},
   "outputs": [
    {
     "name": "stdout",
     "output_type": "stream",
     "text": [
      "Positive tweets percentage: 30.0 %\n",
      "Negative tweets percentage: 4.0 %\n",
      "Neutral tweets percentage: 66.0 %\n"
     ]
    }
   ],
   "source": [
    "#Statistics from sentiment analysis\n",
    "total= len(positive_list) + len(negative_list) + len(neutral_list)\n",
    "\n",
    "print(\"Positive tweets percentage: {} %\".format(100*len(positive_list)/total))\n",
    "print(\"Negative tweets percentage: {} %\".format(100*len(negative_list)/total))\n",
    "print(\"Neutral tweets percentage: {} %\".format(100*len(neutral_list)/total))"
   ]
  },
  {
   "cell_type": "markdown",
   "metadata": {},
   "source": [
    "One way to verificate if this results about Fifa20, is using the online tool available. In this case was used NCSU Tweet Sentiment Visualization App (Web App), this app was developed by: Dr. Christopher Healey, Goodnight Distinguished Professor in the Institute of Advanced Analytics at North Carolina State University, has built one of the most robust and highly functional free tools for Twitter sentiment analysis out there: the Tweet Visualizer. The NCSU Tweet Visualizer is particularly strong, because it simply enter a keyword, and the Tweet Visualizer automatically pulls recent tweets (from the past week, though the time range is shorter for popular subjects)."
   ]
  },
  {
   "cell_type": "markdown",
   "metadata": {},
   "source": [
    "![Sentiment Analysis](Twitter_1.png \"Sentiment Analysis from https://www.csc2.ncsu.edu/faculty/healey/tweet_viz/tweet_app/ web page\")"
   ]
  },
  {
   "cell_type": "markdown",
   "metadata": {},
   "source": [
    "![Sentiment Analysis](Twitter_2.png \"Sentiment Analysis from https://www.csc2.ncsu.edu/faculty/healey/tweet_viz/tweet_app/ web page\")"
   ]
  },
  {
   "cell_type": "markdown",
   "metadata": {},
   "source": [
    "![Sentiment Analysis](Twitter_3.png \"Sentiment Analysis from https://www.csc2.ncsu.edu/faculty/healey/tweet_viz/tweet_app/ web page\")"
   ]
  }
 ],
 "metadata": {
  "kernelspec": {
   "display_name": "Python 3",
   "language": "python",
   "name": "python3"
  },
  "language_info": {
   "codemirror_mode": {
    "name": "ipython",
    "version": 3
   },
   "file_extension": ".py",
   "mimetype": "text/x-python",
   "name": "python",
   "nbconvert_exporter": "python",
   "pygments_lexer": "ipython3",
   "version": "3.7.3"
  }
 },
 "nbformat": 4,
 "nbformat_minor": 2
}
